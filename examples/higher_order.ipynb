{
 "cells": [
  {
   "cell_type": "code",
   "execution_count": 1,
   "id": "1de8b3db",
   "metadata": {},
   "outputs": [],
   "source": [
    "import numpy as np\n",
    "import toydiff as tdf\n",
    "import matplotlib.pyplot as plt"
   ]
  },
  {
   "cell_type": "code",
   "execution_count": null,
   "id": "b0e36bfe",
   "metadata": {},
   "outputs": [],
   "source": []
  },
  {
   "cell_type": "code",
   "execution_count": 2,
   "id": "3d9ef2fb",
   "metadata": {},
   "outputs": [],
   "source": [
    "from toydiff.nn.functional import tanh"
   ]
  },
  {
   "cell_type": "code",
   "execution_count": 3,
   "id": "9b8fc723",
   "metadata": {},
   "outputs": [],
   "source": [
    "a = tdf.random.rand((5,5), track_gradient=True)\n",
    "b = tdf.random.rand((5,1), track_gradient=True)"
   ]
  },
  {
   "cell_type": "code",
   "execution_count": 4,
   "id": "95322fdb",
   "metadata": {},
   "outputs": [],
   "source": [
    "c = a + b\n",
    "\n",
    "try:\n",
    "    c.backward()\n",
    "except Exception as e:\n",
    "    print(e)"
   ]
  },
  {
   "cell_type": "code",
   "execution_count": 5,
   "id": "0e00725c",
   "metadata": {},
   "outputs": [
    {
     "data": {
      "text/plain": [
       "array([[1., 1., 1., 1., 1.],\n",
       "       [1., 1., 1., 1., 1.],\n",
       "       [1., 1., 1., 1., 1.],\n",
       "       [1., 1., 1., 1., 1.],\n",
       "       [1., 1., 1., 1., 1.]], dtype=float32)"
      ]
     },
     "execution_count": 5,
     "metadata": {},
     "output_type": "execute_result"
    }
   ],
   "source": [
    "c.gradient.numpy()"
   ]
  },
  {
   "cell_type": "code",
   "execution_count": 6,
   "id": "a1403ffb",
   "metadata": {},
   "outputs": [
    {
     "data": {
      "text/plain": [
       "array([[0.29945374, 0.5802881 , 0.14942324, 0.31747103, 0.9549782 ],\n",
       "       [0.7747026 , 0.7351697 , 0.92151785, 0.5071975 , 0.16026714],\n",
       "       [0.6302548 , 0.5140062 , 0.03852043, 0.7737813 , 0.52010405],\n",
       "       [0.2176063 , 0.5797469 , 0.9308685 , 0.7201687 , 0.00861837],\n",
       "       [0.56100965, 0.22167163, 0.27094242, 0.21113035, 0.9072038 ]],\n",
       "      dtype=float32)"
      ]
     },
     "execution_count": 6,
     "metadata": {},
     "output_type": "execute_result"
    }
   ],
   "source": [
    "a.numpy()"
   ]
  },
  {
   "cell_type": "code",
   "execution_count": 7,
   "id": "97f76002",
   "metadata": {},
   "outputs": [
    {
     "data": {
      "text/plain": [
       "array([[0.93478215],\n",
       "       [0.44630638],\n",
       "       [0.36340377],\n",
       "       [0.7405627 ],\n",
       "       [0.7675519 ]], dtype=float32)"
      ]
     },
     "execution_count": 7,
     "metadata": {},
     "output_type": "execute_result"
    }
   ],
   "source": [
    "b.numpy()"
   ]
  },
  {
   "cell_type": "code",
   "execution_count": 8,
   "id": "598dd462",
   "metadata": {},
   "outputs": [
    {
     "ename": "SyntaxError",
     "evalue": "invalid syntax (2133496677.py, line 1)",
     "output_type": "error",
     "traceback": [
      "\u001b[0;36m  Cell \u001b[0;32mIn[8], line 1\u001b[0;36m\u001b[0m\n\u001b[0;31m    ----\u001b[0m\n\u001b[0m        ^\u001b[0m\n\u001b[0;31mSyntaxError\u001b[0m\u001b[0;31m:\u001b[0m invalid syntax\n"
     ]
    }
   ],
   "source": [
    "----"
   ]
  },
  {
   "cell_type": "code",
   "execution_count": null,
   "id": "e6f8935a",
   "metadata": {},
   "outputs": [],
   "source": []
  },
  {
   "cell_type": "code",
   "execution_count": null,
   "id": "8ed714ab",
   "metadata": {},
   "outputs": [],
   "source": []
  },
  {
   "cell_type": "code",
   "execution_count": null,
   "id": "c3550bf8",
   "metadata": {},
   "outputs": [],
   "source": []
  },
  {
   "cell_type": "code",
   "execution_count": null,
   "id": "776bccc0",
   "metadata": {},
   "outputs": [],
   "source": []
  },
  {
   "cell_type": "code",
   "execution_count": null,
   "id": "a6ecd8d2",
   "metadata": {},
   "outputs": [],
   "source": [
    "fig, ax = plt.subplots(1,1)\n",
    "\n",
    "x = tdf.Tensor(np.linspace(-7, 7, 200), track_gradient=True)\n",
    "\n",
    "# f(x)\n",
    "y = tanh(x)\n",
    "ax.plot(x.numpy(), y.numpy(), label=\"Tanh(x)\")\n",
    "\n",
    "# first order\n",
    "y.backward()\n",
    "ax.plot(x.numpy(), x.gradient.numpy(), label=\"First order\")\n",
    "x.zero_grad()\n",
    "\n",
    "# second order\n",
    "y = 1 - tanh(x) ** 2\n",
    "y.backward()\n",
    "ax.plot(x.numpy(), x.gradient.numpy(), label=\"Second order\")\n",
    "x.zero_grad()\n",
    "\n",
    "ax.legend()\n",
    "ax.grid(True, alpha=.5)"
   ]
  },
  {
   "cell_type": "markdown",
   "id": "ac223c6c",
   "metadata": {},
   "source": [
    "----"
   ]
  },
  {
   "cell_type": "code",
   "execution_count": null,
   "id": "48f02022",
   "metadata": {},
   "outputs": [],
   "source": [
    "import torch\n",
    "import toydiff as tdf"
   ]
  },
  {
   "cell_type": "code",
   "execution_count": null,
   "id": "c1f0c8c5",
   "metadata": {},
   "outputs": [],
   "source": [
    "arr = np.random.rand(5, 5)\n",
    "tensor_a = tdf.Tensor(arr, track_gradient=True)\n",
    "tensor_b = tdf.Tensor(arr * 5, track_gradient=True)\n",
    "tensor_c = tdf.Tensor(arr[:, [1]], track_gradient=True)\n",
    "\n",
    "t_tensor_a = torch.Tensor(arr.copy())\n",
    "t_tensor_a.requires_grad = True\n",
    "t_tensor_b = torch.Tensor(arr.copy() * 5)\n",
    "t_tensor_b.requires_grad = True\n",
    "t_tensor_c = torch.Tensor(arr[:, [1]])\n",
    "t_tensor_c.requires_grad = True\n",
    "\n",
    "out_t = torch.matmul(t_tensor_a, t_tensor_b) + t_tensor_c\n",
    "out = tdf.matmul(tensor_a, tensor_b) + tensor_c\n",
    "out_t = torch.matmul(t_tensor_a, t_tensor_b) + t_tensor_c"
   ]
  },
  {
   "cell_type": "code",
   "execution_count": null,
   "id": "a9ab8b9b",
   "metadata": {},
   "outputs": [],
   "source": [
    "out_t.backward(torch.ones_like(out_t))\n",
    "out.backward()"
   ]
  },
  {
   "cell_type": "code",
   "execution_count": null,
   "id": "546f3db3",
   "metadata": {},
   "outputs": [],
   "source": [
    "out"
   ]
  },
  {
   "cell_type": "code",
   "execution_count": null,
   "id": "cdcfbd76",
   "metadata": {},
   "outputs": [],
   "source": [
    "out.parents[0]"
   ]
  },
  {
   "cell_type": "code",
   "execution_count": null,
   "id": "22857ac4",
   "metadata": {},
   "outputs": [],
   "source": [
    "out.parents[1]"
   ]
  },
  {
   "cell_type": "code",
   "execution_count": null,
   "id": "41588099",
   "metadata": {},
   "outputs": [],
   "source": [
    "out.gradient.numpy().sum(axis=1)"
   ]
  },
  {
   "cell_type": "code",
   "execution_count": null,
   "id": "fca8abb7",
   "metadata": {},
   "outputs": [],
   "source": [
    "t_tensor_c.grad"
   ]
  },
  {
   "cell_type": "code",
   "execution_count": null,
   "id": "624352c4",
   "metadata": {},
   "outputs": [],
   "source": [
    "out.parents[0].size"
   ]
  },
  {
   "cell_type": "code",
   "execution_count": null,
   "id": "7e887090",
   "metadata": {},
   "outputs": [],
   "source": [
    "out.parents[1].size"
   ]
  },
  {
   "cell_type": "code",
   "execution_count": null,
   "id": "01fca6c3",
   "metadata": {},
   "outputs": [],
   "source": []
  },
  {
   "cell_type": "code",
   "execution_count": null,
   "id": "d7969641",
   "metadata": {},
   "outputs": [],
   "source": [
    "np.testing.assert_allclose(out.numpy(), out_t.detach().numpy(), rtol=RTOL)\n",
    "\n",
    "# check backward\n",
    "np.testing.assert_allclose(tensor_a.gradient.numpy(), t_tensor_a.grad.numpy(), rtol=RTOL)\n",
    "np.testing.assert_allclose(tensor_b.gradient.numpy(), t_tensor_b.grad.numpy(), rtol=RTOL)\n",
    "np.testing.assert_allclose(tensor_c.gradient.numpy(), t_tensor_c.grad.numpy(), rtol=RTOL)"
   ]
  },
  {
   "cell_type": "code",
   "execution_count": null,
   "id": "f02cc543",
   "metadata": {},
   "outputs": [],
   "source": []
  },
  {
   "cell_type": "code",
   "execution_count": null,
   "id": "8d3decc9",
   "metadata": {},
   "outputs": [],
   "source": []
  }
 ],
 "metadata": {
  "kernelspec": {
   "display_name": "Python 3 (ipykernel)",
   "language": "python",
   "name": "python3"
  },
  "language_info": {
   "codemirror_mode": {
    "name": "ipython",
    "version": 3
   },
   "file_extension": ".py",
   "mimetype": "text/x-python",
   "name": "python",
   "nbconvert_exporter": "python",
   "pygments_lexer": "ipython3",
   "version": "3.10.8"
  }
 },
 "nbformat": 4,
 "nbformat_minor": 5
}
