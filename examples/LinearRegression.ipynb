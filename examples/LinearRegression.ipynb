{
 "cells": [
  {
   "cell_type": "code",
   "execution_count": 1,
   "id": "a119e39f",
   "metadata": {},
   "outputs": [],
   "source": [
    "import torch\n",
    "import numpy as np\n",
    "import toydiff as tdf\n",
    "import matplotlib.pyplot as plt"
   ]
  },
  {
   "cell_type": "markdown",
   "id": "df6c9598",
   "metadata": {},
   "source": [
    "------"
   ]
  },
  {
   "cell_type": "code",
   "execution_count": null,
   "id": "0ee3cb03",
   "metadata": {},
   "outputs": [],
   "source": [
    "x = np.arange(-1, 1, 0.01)\n",
    "y = 2 * x + np.random.normal(size=len(x), scale=0.3)\n",
    "\n",
    "x = x.reshape(-1,1)\n",
    "y = y.reshape(-1,1)\n",
    "\n",
    "plt.scatter(x, y)"
   ]
  },
  {
   "cell_type": "code",
   "execution_count": null,
   "id": "109fe72e",
   "metadata": {},
   "outputs": [],
   "source": [
    "model = tdf.nn.blocks.Linear(1, 1, bias=False)"
   ]
  },
  {
   "cell_type": "code",
   "execution_count": null,
   "id": "996c7eee",
   "metadata": {},
   "outputs": [],
   "source": [
    "feat = tdf.Tensor(x, track_gradient=True)\n",
    "labels = tdf.Tensor(y, track_gradient=True)"
   ]
  },
  {
   "cell_type": "code",
   "execution_count": null,
   "id": "2cf8ba63",
   "metadata": {},
   "outputs": [],
   "source": [
    "from toydiff.nn.optim import SGD\n",
    "from toydiff.nn.functional import mse_loss"
   ]
  },
  {
   "cell_type": "code",
   "execution_count": null,
   "id": "ce1fd66e",
   "metadata": {},
   "outputs": [],
   "source": [
    "optimizer = SGD(model)"
   ]
  },
  {
   "cell_type": "code",
   "execution_count": null,
   "id": "f45c0ec9",
   "metadata": {},
   "outputs": [],
   "source": [
    "model.weights"
   ]
  },
  {
   "cell_type": "code",
   "execution_count": null,
   "id": "81506552",
   "metadata": {},
   "outputs": [],
   "source": [
    "0.9 * np.array([1])"
   ]
  },
  {
   "cell_type": "code",
   "execution_count": null,
   "id": "42abf1fb",
   "metadata": {},
   "outputs": [],
   "source": [
    "# we want to minimize the sum of squares\n",
    "losses = []\n",
    "for i in range(15_000):\n",
    "    optimizer.zero_grad()\n",
    "\n",
    "    out = model(feat)\n",
    "    loss = mse_loss(out, labels)\n",
    "    loss.backward()\n",
    "    \n",
    "    optimizer.step()\n",
    "    \n",
    "    losses.append(loss.value)"
   ]
  },
  {
   "cell_type": "code",
   "execution_count": null,
   "id": "7af90d54",
   "metadata": {},
   "outputs": [],
   "source": [
    "model.weights"
   ]
  },
  {
   "cell_type": "code",
   "execution_count": null,
   "id": "b101eb09",
   "metadata": {},
   "outputs": [],
   "source": [
    "fig, ax = plt.subplots(1,1)\n",
    "\n",
    "ax.plot(losses)\n",
    "ax.grid(True, alpha=0.5)\n",
    "ax.set_title(\"Loss\");"
   ]
  },
  {
   "cell_type": "code",
   "execution_count": null,
   "id": "f1f81349",
   "metadata": {},
   "outputs": [],
   "source": [
    "fig, ax = plt.subplots(1,1)\n",
    "\n",
    "ax.scatter(x, y)\n",
    "ax.scatter(x, out.numpy())\n",
    "\n",
    "ax.grid(True, alpha=0.5)\n",
    "ax.legend([\"Data\", \"Prediction\"])\n",
    "ax.set_title(\"Data vs Prediction\");"
   ]
  },
  {
   "cell_type": "markdown",
   "id": "6be0bd0f",
   "metadata": {},
   "source": [
    "-----"
   ]
  }
 ],
 "metadata": {
  "kernelspec": {
   "display_name": "Python 3 (ipykernel)",
   "language": "python",
   "name": "python3"
  },
  "language_info": {
   "codemirror_mode": {
    "name": "ipython",
    "version": 3
   },
   "file_extension": ".py",
   "mimetype": "text/x-python",
   "name": "python",
   "nbconvert_exporter": "python",
   "pygments_lexer": "ipython3",
   "version": "3.10.8"
  }
 },
 "nbformat": 4,
 "nbformat_minor": 5
}
