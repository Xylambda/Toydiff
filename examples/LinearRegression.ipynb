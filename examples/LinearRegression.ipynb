{
 "cells": [
  {
   "cell_type": "code",
   "execution_count": 1,
   "id": "a119e39f",
   "metadata": {},
   "outputs": [],
   "source": [
    "import torch\n",
    "import numpy as np\n",
    "import toydiff as tdf\n",
    "import matplotlib.pyplot as plt"
   ]
  },
  {
   "cell_type": "markdown",
   "id": "df6c9598",
   "metadata": {},
   "source": [
    "------"
   ]
  },
  {
   "cell_type": "code",
   "execution_count": 2,
   "id": "0ee3cb03",
   "metadata": {},
   "outputs": [
    {
     "data": {
      "image/png": "[encoded data removed]",
      "text/plain": [
       "<Figure size 640x480 with 1 Axes>"
      ]
     },
     "metadata": {},
     "output_type": "display_data"
    }
   ],
   "source": [
    "x = np.arange(-1, 1, 0.01).reshape(-1,1)\n",
    "y = 2 * x + np.random.normal(size=(len(x), 1), scale=0.3)\n",
    "\n",
    "fig, ax = plt.subplots(1,1)\n",
    "ax.scatter(x, y)\n",
    "ax.grid(True, alpha=0.5);"
   ]
  },
  {
   "cell_type": "code",
   "execution_count": 3,
   "id": "109fe72e",
   "metadata": {},
   "outputs": [],
   "source": [
    "model = tdf.nn.blocks.Linear(1, 1, bias=True)"
   ]
  },
  {
   "cell_type": "code",
   "execution_count": 4,
   "id": "996c7eee",
   "metadata": {},
   "outputs": [],
   "source": [
    "feat = tdf.Tensor(x, track_gradient=True)\n",
    "labels = tdf.Tensor(y, track_gradient=True)"
   ]
  },
  {
   "cell_type": "code",
   "execution_count": 5,
   "id": "2cf8ba63",
   "metadata": {},
   "outputs": [],
   "source": [
    "from toydiff.nn.optim import SGD\n",
    "from toydiff.nn.functional import mse_loss"
   ]
  },
  {
   "cell_type": "code",
   "execution_count": 6,
   "id": "ce1fd66e",
   "metadata": {},
   "outputs": [],
   "source": [
    "optimizer = SGD(model)"
   ]
  },
  {
   "cell_type": "code",
   "execution_count": 7,
   "id": "6bef70ee",
   "metadata": {},
   "outputs": [],
   "source": [
    "# original prediction\n",
    "y_0 = model(feat).numpy().copy()"
   ]
  },
  {
   "cell_type": "code",
   "execution_count": 8,
   "id": "7c936450",
   "metadata": {},
   "outputs": [
    {
     "ename": "ValueError",
     "evalue": "not enough values to unpack (expected 2, got 1)",
     "output_type": "error",
     "traceback": [
      "\u001b[0;31m---------------------------------------------------------------------------\u001b[0m",
      "\u001b[0;31mValueError\u001b[0m                                Traceback (most recent call last)",
      "Cell \u001b[0;32mIn[8], line 1\u001b[0m\n\u001b[0;32m----> 1\u001b[0m \u001b[38;5;28;01mfor\u001b[39;00m name, param \u001b[38;5;129;01min\u001b[39;00m model\u001b[38;5;241m.\u001b[39mnamed_parameters():\n\u001b[1;32m      2\u001b[0m     \u001b[38;5;28mprint\u001b[39m(name, param)\n",
      "\u001b[0;31mValueError\u001b[0m: not enough values to unpack (expected 2, got 1)"
     ]
    }
   ],
   "source": [
    "for name, param in model.named_parameters():\n",
    "    print(name, param)"
   ]
  },
  {
   "cell_type": "code",
   "execution_count": null,
   "id": "42abf1fb",
   "metadata": {},
   "outputs": [],
   "source": [
    "# we want to minimize the sum of squares\n",
    "losses = []\n",
    "for i in range(15_000):\n",
    "    optimizer.zero_grad()\n",
    "\n",
    "    out = model(feat)\n",
    "    loss = mse_loss(out, labels)\n",
    "    loss.backward()\n",
    "    \n",
    "    optimizer.step()\n",
    "    \n",
    "    losses.append(loss.value)"
   ]
  },
  {
   "cell_type": "code",
   "execution_count": null,
   "id": "7af90d54",
   "metadata": {},
   "outputs": [],
   "source": [
    "for name, param in model.named_parameters():\n",
    "    print(name, param)"
   ]
  },
  {
   "cell_type": "code",
   "execution_count": null,
   "id": "b101eb09",
   "metadata": {},
   "outputs": [],
   "source": [
    "fig, ax = plt.subplots(1,1)\n",
    "\n",
    "ax.plot(losses)\n",
    "ax.grid(True, alpha=0.5)\n",
    "ax.set_title(\"Loss\");"
   ]
  },
  {
   "cell_type": "code",
   "execution_count": null,
   "id": "f1f81349",
   "metadata": {},
   "outputs": [],
   "source": [
    "fig, ax = plt.subplots(1,1)\n",
    "\n",
    "ax.scatter(x, y)\n",
    "ax.scatter(x, y_0)\n",
    "ax.scatter(x, out.numpy())\n",
    "\n",
    "ax.grid(True, alpha=0.5)\n",
    "ax.legend([\"Data\", \"Prediction (before training)\", \"Prediction (after training)\"])\n",
    "ax.set_title(\"Data vs Prediction\");"
   ]
  },
  {
   "cell_type": "code",
   "execution_count": null,
   "id": "e49758b3",
   "metadata": {},
   "outputs": [],
   "source": [
    "from toydiff.nn.blocks import Module, Linear"
   ]
  },
  {
   "cell_type": "code",
   "execution_count": null,
   "id": "39f90335",
   "metadata": {},
   "outputs": [],
   "source": [
    "class Model(Module):\n",
    "    def __init__(self, in_f, out_f):\n",
    "        super().__init__()\n",
    "        self.lin1 = Linear(in_f, 5)\n",
    "        self.lin2 = Linear(5, 5)\n",
    "        self.lin3 = Linear(5, out_f)\n",
    "\n",
    "    def forward(self, X):\n",
    "        return self.lin3(self.lin2(self.lin1(X)))"
   ]
  },
  {
   "cell_type": "code",
   "execution_count": null,
   "id": "01515a90",
   "metadata": {},
   "outputs": [],
   "source": [
    "mo = Model(1,1)"
   ]
  },
  {
   "cell_type": "code",
   "execution_count": null,
   "id": "8558662f",
   "metadata": {},
   "outputs": [],
   "source": [
    "for p in mo.parameters():\n",
    "    print(p)"
   ]
  },
  {
   "cell_type": "code",
   "execution_count": null,
   "id": "5546c7cd",
   "metadata": {},
   "outputs": [],
   "source": [
    "for p in mo.named_parameters():\n",
    "    print(p)"
   ]
  },
  {
   "cell_type": "markdown",
   "id": "a18a3d51",
   "metadata": {},
   "source": [
    "----"
   ]
  }
 ],
 "metadata": {
  "kernelspec": {
   "display_name": "Python 3 (ipykernel)",
   "language": "python",
   "name": "python3"
  },
  "language_info": {
   "codemirror_mode": {
    "name": "ipython",
    "version": 3
   },
   "file_extension": ".py",
   "mimetype": "text/x-python",
   "name": "python",
   "nbconvert_exporter": "python",
   "pygments_lexer": "ipython3",
   "version": "3.10.8"
  }
 },
 "nbformat": 4,
 "nbformat_minor": 5
}
