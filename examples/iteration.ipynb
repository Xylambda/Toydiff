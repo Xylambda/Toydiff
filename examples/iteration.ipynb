{
 "cells": [
  {
   "cell_type": "code",
   "execution_count": 1,
   "id": "7d657762",
   "metadata": {},
   "outputs": [],
   "source": [
    "import torch\n",
    "import numpy as np\n",
    "import toydiff as tdf\n",
    "import matplotlib.pyplot as plt\n",
    "from toydiff.nn.blocks import Module, Linear"
   ]
  },
  {
   "cell_type": "code",
   "execution_count": 2,
   "id": "1e7638e5",
   "metadata": {},
   "outputs": [],
   "source": [
    "model_simple = Linear(1, 1, bias=True)"
   ]
  },
  {
   "cell_type": "code",
   "execution_count": 3,
   "id": "0f6f8ea0",
   "metadata": {},
   "outputs": [
    {
     "name": "stdout",
     "output_type": "stream",
     "text": [
      "Tensor([[-1.1524795]], dtype=float32, track_gradient=True)\n",
      "Tensor([0.16869831], dtype=float32, track_gradient=True)\n"
     ]
    }
   ],
   "source": [
    "for p in model_simple.parameters():\n",
    "    print(p)"
   ]
  },
  {
   "cell_type": "code",
   "execution_count": 4,
   "id": "2110abfa",
   "metadata": {},
   "outputs": [
    {
     "name": "stdout",
     "output_type": "stream",
     "text": [
      "('weight', Tensor([[-1.1524795]], dtype=float32, track_gradient=True))\n",
      "('bias', Tensor([0.16869831], dtype=float32, track_gradient=True))\n"
     ]
    }
   ],
   "source": [
    "for p in model_simple.named_parameters():\n",
    "    print(p)"
   ]
  },
  {
   "cell_type": "code",
   "execution_count": 5,
   "id": "bf9edb2d",
   "metadata": {},
   "outputs": [],
   "source": [
    "class Model(Module):\n",
    "    def __init__(self, in_f, out_f):\n",
    "        super().__init__()\n",
    "        self.lin1 = Linear(in_f, 5)\n",
    "        self.lin2 = Linear(5, 5, bias=True)\n",
    "        self.lin3 = Linear(5, out_f)\n",
    "\n",
    "    def forward(self, X):\n",
    "        return self.lin3(self.lin2(self.lin1(X)))\n",
    "\n",
    "    \n",
    "class SuperModel(Module):\n",
    "    def __init__(self):\n",
    "        super().__init__()\n",
    "        self.model1 = Model(1,1)\n",
    "        self.model2 = Model(1,1)\n",
    "\n",
    "    def forward(self, X):\n",
    "        return self.model2(self.model1(X))"
   ]
  },
  {
   "cell_type": "code",
   "execution_count": 6,
   "id": "571fbbf6",
   "metadata": {},
   "outputs": [],
   "source": [
    "model_complex = Model(1,1)"
   ]
  },
  {
   "cell_type": "code",
   "execution_count": 7,
   "id": "5417b40b",
   "metadata": {},
   "outputs": [
    {
     "name": "stdout",
     "output_type": "stream",
     "text": [
      "weight Tensor([[ 0.16809037],\n",
      "       [-0.44398898],\n",
      "       [ 0.07091864],\n",
      "       [ 0.32421875],\n",
      "       [ 0.6750233 ]], dtype=float32, track_gradient=True)\n",
      "weight Tensor([[ 0.38460317,  0.57683796,  0.6252425 ,  0.692226  ,  0.31461474],\n",
      "       [ 0.66168797,  1.8071277 , -0.20569378,  0.6223298 , -0.48108304],\n",
      "       [-1.5718416 ,  0.04897113,  0.45917118, -2.0962489 ,  0.8343824 ],\n",
      "       [-0.42814   ,  1.562432  , -1.161408  ,  0.94462436,  0.87796783],\n",
      "       [ 1.8187758 ,  1.0470984 ,  1.7618078 , -0.35621834,  1.6303357 ]],\n",
      "      dtype=float32, track_gradient=True)\n",
      "bias Tensor([-0.62646484, -1.5172968 , -0.11051818,  0.60567015, -0.69061065],\n",
      "      dtype=float32, track_gradient=True)\n",
      "weight Tensor([[-0.49345124,  0.4414633 , -0.07866151,  0.26608378,  0.43842435]],\n",
      "      dtype=float32, track_gradient=True)\n"
     ]
    }
   ],
   "source": [
    "for key, val in model_complex.named_parameters():\n",
    "    print(key, val)"
   ]
  },
  {
   "cell_type": "code",
   "execution_count": 8,
   "id": "856a085b",
   "metadata": {},
   "outputs": [],
   "source": [
    "sp_model = SuperModel()"
   ]
  },
  {
   "cell_type": "code",
   "execution_count": 9,
   "id": "aaf8102d",
   "metadata": {},
   "outputs": [
    {
     "data": {
      "text/plain": [
       "OrderedDict([('weight_0',\n",
       "              Tensor([[ 1.5009221 ],\n",
       "                     [ 1.8802804 ],\n",
       "                     [-1.1215589 ],\n",
       "                     [-0.07336602],\n",
       "                     [-0.98108894]], dtype=float32, track_gradient=True)),\n",
       "             ('weight_1',\n",
       "              Tensor([[ 0.6491288 ,  0.16675629, -0.4888138 ,  0.19954038, -0.76729393],\n",
       "                     [ 1.3105116 , -1.5407058 ,  0.13516453,  0.54066455,  0.04474811],\n",
       "                     [ 1.8605776 , -0.24941117, -0.4930001 , -1.300886  ,  1.0397424 ],\n",
       "                     [ 0.8769514 , -1.0941402 ,  0.218654  ,  1.2038121 , -0.03444668],\n",
       "                     [ 1.4870265 , -2.0687523 , -0.6395416 ,  0.29797655, -0.712167  ]],\n",
       "                    dtype=float32, track_gradient=True)),\n",
       "             ('bias_2',\n",
       "              Tensor([ 1.4455769, -1.9997764, -0.5442659, -0.5875887,  1.4555124],\n",
       "                    dtype=float32, track_gradient=True)),\n",
       "             ('weight_3',\n",
       "              Tensor([[-0.28100106, -1.3481805 ,  0.19711553, -1.912718  ,  0.36133367]],\n",
       "                    dtype=float32, track_gradient=True)),\n",
       "             ('weight_4',\n",
       "              Tensor([[ 0.06267316],\n",
       "                     [ 0.06269968],\n",
       "                     [-0.49370444],\n",
       "                     [ 0.08522127],\n",
       "                     [ 1.8185121 ]], dtype=float32, track_gradient=True)),\n",
       "             ('weight_5',\n",
       "              Tensor([[-0.5672135 , -0.7660885 , -0.15922742,  0.928765  , -1.6936846 ],\n",
       "                     [-0.86185455, -1.0295842 ,  1.1909428 ,  1.4118783 , -2.3203614 ],\n",
       "                     [ 0.8897129 ,  1.1218301 , -0.04663583,  1.6348753 ,  0.6730969 ],\n",
       "                     [ 0.600412  , -1.1104968 , -0.8265322 ,  0.23368031, -0.16149487],\n",
       "                     [-1.0371494 , -0.24337591, -0.12947427,  1.3300941 ,  2.693549  ]],\n",
       "                    dtype=float32, track_gradient=True)),\n",
       "             ('bias_6',\n",
       "              Tensor([ 1.0610211 ,  0.91627073, -0.07093497,  2.0187464 ,  0.1184425 ],\n",
       "                    dtype=float32, track_gradient=True)),\n",
       "             ('weight_7',\n",
       "              Tensor([[-0.22329538, -1.7438025 ,  0.40948534,  0.45600486,  1.1875181 ]],\n",
       "                    dtype=float32, track_gradient=True))])"
      ]
     },
     "execution_count": 9,
     "metadata": {},
     "output_type": "execute_result"
    }
   ],
   "source": [
    "sp_model.state_dict()"
   ]
  },
  {
   "cell_type": "code",
   "execution_count": null,
   "id": "bf217d2a",
   "metadata": {},
   "outputs": [],
   "source": []
  },
  {
   "cell_type": "code",
   "execution_count": null,
   "id": "753a6624",
   "metadata": {},
   "outputs": [],
   "source": []
  },
  {
   "cell_type": "code",
   "execution_count": null,
   "id": "12d3c7c4",
   "metadata": {},
   "outputs": [],
   "source": []
  },
  {
   "cell_type": "code",
   "execution_count": null,
   "id": "e2d81d59",
   "metadata": {},
   "outputs": [],
   "source": []
  }
 ],
 "metadata": {
  "kernelspec": {
   "display_name": "Python 3 (ipykernel)",
   "language": "python",
   "name": "python3"
  },
  "language_info": {
   "codemirror_mode": {
    "name": "ipython",
    "version": 3
   },
   "file_extension": ".py",
   "mimetype": "text/x-python",
   "name": "python",
   "nbconvert_exporter": "python",
   "pygments_lexer": "ipython3",
   "version": "3.10.8"
  }
 },
 "nbformat": 4,
 "nbformat_minor": 5
}
