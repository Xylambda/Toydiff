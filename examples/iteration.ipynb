{
 "cells": [
  {
   "cell_type": "code",
   "execution_count": 1,
   "id": "62dfbdec",
   "metadata": {},
   "outputs": [],
   "source": [
    "import torch\n",
    "import numpy as np\n",
    "import toydiff as tdf\n",
    "import matplotlib.pyplot as plt\n",
    "from toydiff.nn.blocks import Module, Linear"
   ]
  },
  {
   "cell_type": "code",
   "execution_count": 2,
   "id": "bf9d9a95",
   "metadata": {},
   "outputs": [],
   "source": [
    "model_simple = Linear(1, 1, bias=True)"
   ]
  },
  {
   "cell_type": "code",
   "execution_count": 3,
   "id": "ecbdb34c",
   "metadata": {},
   "outputs": [
    {
     "name": "stdout",
     "output_type": "stream",
     "text": [
      "weight Tensor([[0.29307085]], dtype=float32, track_gradient=True)\n",
      "bias Tensor([-0.8191211], dtype=float32, track_gradient=True)\n"
     ]
    }
   ],
   "source": [
    "for name, param in model_simple.named_parameters():\n",
    "    print(name, param)"
   ]
  },
  {
   "cell_type": "code",
   "execution_count": 4,
   "id": "da2e3009",
   "metadata": {},
   "outputs": [],
   "source": [
    "from toydiff.nn.init import kaiming_uniform"
   ]
  },
  {
   "cell_type": "code",
   "execution_count": 5,
   "id": "b99484bc",
   "metadata": {},
   "outputs": [],
   "source": [
    "kaiming_uniform(model_simple.weights, gain=1)\n",
    "kaiming_uniform(model_simple.bias, gain=1)"
   ]
  },
  {
   "cell_type": "code",
   "execution_count": 9,
   "id": "911e5016",
   "metadata": {},
   "outputs": [
    {
     "name": "stdout",
     "output_type": "stream",
     "text": [
      "weight Tensor([[-0.78115522]], track_gradient=True)\n",
      "bias Tensor([0.9352193], track_gradient=True)\n"
     ]
    }
   ],
   "source": [
    "for name, param in model_simple.named_parameters():\n",
    "    print(name, param)"
   ]
  },
  {
   "cell_type": "code",
   "execution_count": null,
   "id": "eb85134c",
   "metadata": {},
   "outputs": [],
   "source": []
  },
  {
   "cell_type": "code",
   "execution_count": null,
   "id": "769c92ff",
   "metadata": {},
   "outputs": [],
   "source": []
  },
  {
   "cell_type": "code",
   "execution_count": null,
   "id": "f9877fde",
   "metadata": {},
   "outputs": [],
   "source": []
  }
 ],
 "metadata": {
  "kernelspec": {
   "display_name": "Python 3 (ipykernel)",
   "language": "python",
   "name": "python3"
  },
  "language_info": {
   "codemirror_mode": {
    "name": "ipython",
    "version": 3
   },
   "file_extension": ".py",
   "mimetype": "text/x-python",
   "name": "python",
   "nbconvert_exporter": "python",
   "pygments_lexer": "ipython3",
   "version": "3.10.8"
  }
 },
 "nbformat": 4,
 "nbformat_minor": 5
}
