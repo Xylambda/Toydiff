{
 "cells": [
  {
   "cell_type": "code",
   "execution_count": 1,
   "id": "a119e39f",
   "metadata": {},
   "outputs": [],
   "source": [
    "import torch\n",
    "import numpy as np\n",
    "import toydiff as tdf"
   ]
  },
  {
   "cell_type": "code",
   "execution_count": 2,
   "id": "16f0385a",
   "metadata": {},
   "outputs": [],
   "source": [
    "lin_tdf = tdf.nn.blocks.Linear(10, 5)\n",
    "lin_torch = torch.nn.Linear(10, 5)"
   ]
  },
  {
   "cell_type": "code",
   "execution_count": 3,
   "id": "e78b2a34",
   "metadata": {},
   "outputs": [],
   "source": [
    "input_ = np.random.rand(5, 10)"
   ]
  },
  {
   "cell_type": "code",
   "execution_count": 26,
   "id": "6399f74d",
   "metadata": {},
   "outputs": [],
   "source": [
    "i = torch.Tensor(input_)\n",
    "i.requires_grad = True"
   ]
  },
  {
   "cell_type": "code",
   "execution_count": 28,
   "id": "2f19b478",
   "metadata": {},
   "outputs": [],
   "source": [
    "s = torch.sign(i)"
   ]
  },
  {
   "cell_type": "code",
   "execution_count": 29,
   "id": "f1cab67e",
   "metadata": {},
   "outputs": [],
   "source": [
    "s.backward(torch.ones_like(s))"
   ]
  },
  {
   "cell_type": "code",
   "execution_count": 30,
   "id": "75d7236d",
   "metadata": {},
   "outputs": [
    {
     "data": {
      "text/plain": [
       "tensor([[0., 0., 0., 0., 0., 0., 0., 0., 0., 0.],\n",
       "        [0., 0., 0., 0., 0., 0., 0., 0., 0., 0.],\n",
       "        [0., 0., 0., 0., 0., 0., 0., 0., 0., 0.],\n",
       "        [0., 0., 0., 0., 0., 0., 0., 0., 0., 0.],\n",
       "        [0., 0., 0., 0., 0., 0., 0., 0., 0., 0.]])"
      ]
     },
     "execution_count": 30,
     "metadata": {},
     "output_type": "execute_result"
    }
   ],
   "source": [
    "i.grad"
   ]
  },
  {
   "cell_type": "code",
   "execution_count": null,
   "id": "c81667f0",
   "metadata": {},
   "outputs": [],
   "source": []
  },
  {
   "cell_type": "code",
   "execution_count": null,
   "id": "2f8b9fc6",
   "metadata": {},
   "outputs": [],
   "source": []
  },
  {
   "cell_type": "code",
   "execution_count": 6,
   "id": "9c789493",
   "metadata": {},
   "outputs": [
    {
     "data": {
      "text/plain": [
       "Tensor([[ 0.65963364,  0.83599496,  0.36243007, -1.4575223 , -0.84111625],\n",
       "       [-0.8040682 ,  0.9266286 ,  1.646702  , -1.0465697 , -0.83788073],\n",
       "       [-0.6250944 , -0.5491149 , -0.0886869 , -1.4728655 , -0.70685536],\n",
       "       [-0.83394665, -0.9244554 , -0.26483598, -2.470198  , -0.8113657 ],\n",
       "       [ 1.5206875 ,  1.1588526 ,  0.82080775, -1.1996559 , -1.8349674 ]],\n",
       "      dtype=float32, backward_fn=<MatrixMultiplication(BinaryOp).Backward>)"
      ]
     },
     "execution_count": 6,
     "metadata": {},
     "output_type": "execute_result"
    }
   ],
   "source": [
    "out = lin_tdf(tdf.Tensor(input_))\n",
    "out"
   ]
  },
  {
   "cell_type": "code",
   "execution_count": 7,
   "id": "ea2ea441",
   "metadata": {},
   "outputs": [
    {
     "data": {
      "text/plain": [
       "tensor([[ 0.0492,  0.2248,  0.3840, -0.2589, -0.1317],\n",
       "        [-0.1824,  0.1574,  0.5611, -0.1861,  0.2225],\n",
       "        [-0.0503,  0.2963,  0.4429, -0.5605, -0.2753],\n",
       "        [ 0.3766, -0.1241,  0.5419, -0.5457, -0.0610],\n",
       "        [ 0.0977, -0.0762,  0.4951, -0.5333,  0.1203]],\n",
       "       grad_fn=<AddmmBackward0>)"
      ]
     },
     "execution_count": 7,
     "metadata": {},
     "output_type": "execute_result"
    }
   ],
   "source": [
    "lin_torch(torch.Tensor(input_))"
   ]
  },
  {
   "cell_type": "markdown",
   "id": "ad6d3090",
   "metadata": {},
   "source": [
    "------"
   ]
  },
  {
   "cell_type": "code",
   "execution_count": 8,
   "id": "a3c16deb",
   "metadata": {},
   "outputs": [],
   "source": [
    "_np = np.random.rand(5)\n",
    "\n",
    "ta = torch.Tensor(_np)\n",
    "ta.requires_grad = True\n",
    "\n",
    "#tb = torch.std(ta, unbiased=False)\n",
    "\n",
    "\n",
    "tb = torch.pow(torch.pow(ta - ta.mean(), 2).sum() / len(ta), 0.5)\n",
    "\n",
    "a = tdf.Tensor(_np, track_gradient=True)\n",
    "b = tdf.std(a)"
   ]
  },
  {
   "cell_type": "code",
   "execution_count": 9,
   "id": "c8d1b105",
   "metadata": {},
   "outputs": [],
   "source": [
    "tb.backward()"
   ]
  },
  {
   "cell_type": "code",
   "execution_count": 10,
   "id": "e71a8d88",
   "metadata": {},
   "outputs": [
    {
     "data": {
      "text/plain": [
       "tensor(0.3277, grad_fn=<PowBackward0>)"
      ]
     },
     "execution_count": 10,
     "metadata": {},
     "output_type": "execute_result"
    }
   ],
   "source": [
    "tb"
   ]
  },
  {
   "cell_type": "code",
   "execution_count": 11,
   "id": "e6a16a6d",
   "metadata": {},
   "outputs": [
    {
     "data": {
      "text/plain": [
       "Tensor(0.32773304, dtype=float32, backward_fn=<Power(BinaryOp).Backward>)"
      ]
     },
     "execution_count": 11,
     "metadata": {},
     "output_type": "execute_result"
    }
   ],
   "source": [
    "b"
   ]
  },
  {
   "cell_type": "code",
   "execution_count": 12,
   "id": "36b71d78",
   "metadata": {},
   "outputs": [
    {
     "name": "stderr",
     "output_type": "stream",
     "text": [
      "/Users/alejandroperezsanjuan/Git/toydiff/src/toydiff/core.py:567: RuntimeWarning: invalid value encountered in log\n",
      "  grad_b = (self.power * np.log(data_a)) * grad_np\n"
     ]
    }
   ],
   "source": [
    "b.backward()"
   ]
  },
  {
   "cell_type": "code",
   "execution_count": 13,
   "id": "c5f288de",
   "metadata": {},
   "outputs": [
    {
     "data": {
      "text/plain": [
       "tensor([ 0.2574,  0.1015,  0.1049, -0.2812, -0.1827])"
      ]
     },
     "execution_count": 13,
     "metadata": {},
     "output_type": "execute_result"
    }
   ],
   "source": [
    "ta.grad"
   ]
  },
  {
   "cell_type": "code",
   "execution_count": 14,
   "id": "bdf486a8",
   "metadata": {},
   "outputs": [
    {
     "data": {
      "text/plain": [
       "Tensor([ 0.25742579,  0.10147171,  0.10493454, -0.28118128, -0.18265074],\n",
       "      dtype=float32, track_gradient=False)"
      ]
     },
     "execution_count": 14,
     "metadata": {},
     "output_type": "execute_result"
    }
   ],
   "source": [
    "a.gradient"
   ]
  },
  {
   "cell_type": "code",
   "execution_count": 15,
   "id": "1fa5c626",
   "metadata": {},
   "outputs": [],
   "source": [
    "_np = np.random.rand(10, 3)\n",
    "\n",
    "t = tdf.Tensor(_np, track_gradient=True)\n",
    "tt = torch.Tensor(_np)\n",
    "tt.requires_grad = True\n",
    "\n",
    "\n",
    "o = tdf.nn.functional.relu(t)\n",
    "ot = torch.nn.functional.relu(tt)"
   ]
  },
  {
   "cell_type": "code",
   "execution_count": 16,
   "id": "bd9acd30",
   "metadata": {},
   "outputs": [
    {
     "data": {
      "text/plain": [
       "Tensor([[0.9765041 , 0.46142346, 0.14244771],\n",
       "       [0.05392111, 0.03756724, 0.11819503],\n",
       "       [0.6554396 , 0.8304142 , 0.3320226 ],\n",
       "       [0.13808095, 0.4241065 , 0.56154364],\n",
       "       [0.2830783 , 0.29950333, 0.8534088 ],\n",
       "       [0.17507502, 0.492248  , 0.30265287],\n",
       "       [0.8984496 , 0.31905365, 0.5938523 ],\n",
       "       [0.5536449 , 0.9105648 , 0.81462026],\n",
       "       [0.04619663, 0.64904594, 0.9132469 ],\n",
       "       [0.01871407, 0.3239545 , 0.46765637]], dtype=float32, backward_fn=<Maximum(BinaryOp).Backward>)"
      ]
     },
     "execution_count": 16,
     "metadata": {},
     "output_type": "execute_result"
    }
   ],
   "source": [
    "o"
   ]
  },
  {
   "cell_type": "code",
   "execution_count": 17,
   "id": "2c613a61",
   "metadata": {},
   "outputs": [
    {
     "data": {
      "text/plain": [
       "tensor([[0.9765, 0.4614, 0.1424],\n",
       "        [0.0539, 0.0376, 0.1182],\n",
       "        [0.6554, 0.8304, 0.3320],\n",
       "        [0.1381, 0.4241, 0.5615],\n",
       "        [0.2831, 0.2995, 0.8534],\n",
       "        [0.1751, 0.4922, 0.3027],\n",
       "        [0.8984, 0.3191, 0.5939],\n",
       "        [0.5536, 0.9106, 0.8146],\n",
       "        [0.0462, 0.6490, 0.9132],\n",
       "        [0.0187, 0.3240, 0.4677]], grad_fn=<ReluBackward0>)"
      ]
     },
     "execution_count": 17,
     "metadata": {},
     "output_type": "execute_result"
    }
   ],
   "source": [
    "ot"
   ]
  },
  {
   "cell_type": "code",
   "execution_count": 18,
   "id": "d3bf6a7d",
   "metadata": {},
   "outputs": [],
   "source": [
    "ot.backward(torch.ones_like(ot))"
   ]
  },
  {
   "cell_type": "code",
   "execution_count": 19,
   "id": "d760abed",
   "metadata": {},
   "outputs": [
    {
     "data": {
      "text/plain": [
       "tensor([[1., 1., 1.],\n",
       "        [1., 1., 1.],\n",
       "        [1., 1., 1.],\n",
       "        [1., 1., 1.],\n",
       "        [1., 1., 1.],\n",
       "        [1., 1., 1.],\n",
       "        [1., 1., 1.],\n",
       "        [1., 1., 1.],\n",
       "        [1., 1., 1.],\n",
       "        [1., 1., 1.]])"
      ]
     },
     "execution_count": 19,
     "metadata": {},
     "output_type": "execute_result"
    }
   ],
   "source": [
    "tt.grad"
   ]
  },
  {
   "cell_type": "code",
   "execution_count": 20,
   "id": "c13ab3fd",
   "metadata": {},
   "outputs": [],
   "source": [
    "o.backward()"
   ]
  },
  {
   "cell_type": "code",
   "execution_count": 21,
   "id": "3378b10c",
   "metadata": {},
   "outputs": [
    {
     "data": {
      "text/plain": [
       "Tensor([[1., 1., 1.],\n",
       "       [1., 1., 1.],\n",
       "       [1., 1., 1.],\n",
       "       [1., 1., 1.],\n",
       "       [1., 1., 1.],\n",
       "       [1., 1., 1.],\n",
       "       [1., 1., 1.],\n",
       "       [1., 1., 1.],\n",
       "       [1., 1., 1.],\n",
       "       [1., 1., 1.]], dtype=float32, track_gradient=False)"
      ]
     },
     "execution_count": 21,
     "metadata": {},
     "output_type": "execute_result"
    }
   ],
   "source": [
    "t.gradient"
   ]
  },
  {
   "cell_type": "markdown",
   "id": "d8913e2a",
   "metadata": {},
   "source": [
    "----"
   ]
  },
  {
   "cell_type": "code",
   "execution_count": 31,
   "id": "af9e421b",
   "metadata": {},
   "outputs": [],
   "source": [
    "import numpy as np\n",
    "\n",
    "\n",
    "def sigmoid_double_linear(x, x_abs_min, x_abs_max):\n",
    "    \"\"\"Bound input x into [-1, 1] with a double sigmoid linear transformation.\n",
    "\n",
    "    This is useful for obtaining a (non-leveraged) position from an\n",
    "    unbounded indicator.\n",
    "\n",
    "    The transformation resembles that of a double sigmoid but it's based\n",
    "    on a saturated linear function.\n",
    "\n",
    "    It's symmetric with respect to the origin.\n",
    "\n",
    "    Parameters\n",
    "    ----------\n",
    "    x : numpy.array of float\n",
    "        Unbounded input.\n",
    "    x_abs_min : float\n",
    "        Below this point output is -1.\n",
    "    x_abs_max : float\n",
    "        Above this point output is +1.\n",
    "\n",
    "    Returns\n",
    "    -------\n",
    "    out : numpy.array of float\n",
    "        Sequence bounded to [-1, 1] interval.\n",
    "\n",
    "    Example\n",
    "    -------\n",
    "    >>> import numpy as np\n",
    "    >>> import tesser.functional as tf\n",
    "    >>> arr = np.random.randn(10)\n",
    "    >>> sign = tf.sigmoid_double_linear(x=series, x_abs_min=0, x_abs_max=0)\n",
    "    \"\"\"\n",
    "    x_abs = np.abs(x)\n",
    "    out_abs_linear = (x_abs - x_abs_min) / (x_abs_max - x_abs_min)\n",
    "    out_abs_saturated = np.clip(out_abs_linear, 0, 1)\n",
    "    out = out_abs_saturated * np.sign(x)\n",
    "    return out\n",
    "\n",
    "\n",
    "def sigmoid(x, x_mid, slope_mid):\n",
    "    \"\"\"Evaluate logistic (sigmoid) function.\n",
    "\n",
    "    Parameters\n",
    "    ----------\n",
    "    x : numpy.array of float\n",
    "        Unbounded input.\n",
    "    x_mid : float\n",
    "        Point at which output is 0.\n",
    "    slope_mid : float\n",
    "        Slope at x_mid.\n",
    "\n",
    "    Returns\n",
    "    -------\n",
    "    out : numpy.array of float\n",
    "        Sequence bounded to [0, 1] interval.\n",
    "    \"\"\"\n",
    "    return np.tanh((x - x_mid) * 2 * slope_mid) / 2 + 0.5\n",
    "\n",
    "\n",
    "def sigmoid_double(x, x_mid, slope_mid):\n",
    "    \"\"\"Bound input x into [-1, 1] with a sigmoid double transformation.\n",
    "\n",
    "    This is useful for obtaining a (non-leveraged) position from an\n",
    "    unbounded indicator.\n",
    "\n",
    "    The transformation is made of two sigmoid functions that can be shifted\n",
    "    in opposite directions.\n",
    "\n",
    "    It's symmetric with respect to the origin.\n",
    "\n",
    "    Parameters\n",
    "    ----------\n",
    "    x : numpy.array of float\n",
    "        Unbounded input.\n",
    "    x_mid : float\n",
    "        Point at which absolute value of output is 0.5.\n",
    "    slope_mid : float\n",
    "        Slope at x_mid.\n",
    "\n",
    "    Returns\n",
    "    -------\n",
    "    out : numpy.array of float\n",
    "        Sequence bounded to [-1, 1] interval.\n",
    "\n",
    "    Example\n",
    "    -------\n",
    "    >>> import numpy as np\n",
    "    >>> import tesser.functional as tf\n",
    "    >>> arr = np.random.randn(10)\n",
    "    >>> tanh = tf.sigmoid_double(x=series, x_mid=0, slope_mid=.5)\n",
    "    \"\"\"\n",
    "    return sigmoid(x, -x_mid, slope_mid) + sigmoid(x, x_mid, slope_mid) - 1\n"
   ]
  },
  {
   "cell_type": "code",
   "execution_count": 32,
   "id": "8768a277",
   "metadata": {},
   "outputs": [],
   "source": [
    "import matplotlib.pyplot as plt"
   ]
  },
  {
   "cell_type": "code",
   "execution_count": 33,
   "id": "1a334a6e",
   "metadata": {},
   "outputs": [],
   "source": [
    "x = np.arange(-3, 3, 0.01)"
   ]
  },
  {
   "cell_type": "code",
   "execution_count": 42,
   "id": "aac9b174",
   "metadata": {},
   "outputs": [
    {
     "data": {
      "text/plain": [
       "[<matplotlib.lines.Line2D at 0x7fc7d53d8250>]"
      ]
     },
     "execution_count": 42,
     "metadata": {},
     "output_type": "execute_result"
    },
    {
     "data": {
      "image/png": "[encoded data removed]",
      "text/plain": [
       "<Figure size 640x480 with 1 Axes>"
      ]
     },
     "metadata": {},
     "output_type": "display_data"
    }
   ],
   "source": [
    "plt.plot(x, sigmoid_double(x, 0, 10e3))"
   ]
  },
  {
   "cell_type": "code",
   "execution_count": null,
   "id": "8b084bc1",
   "metadata": {},
   "outputs": [],
   "source": []
  }
 ],
 "metadata": {
  "kernelspec": {
   "display_name": "Python 3 (ipykernel)",
   "language": "python",
   "name": "python3"
  },
  "language_info": {
   "codemirror_mode": {
    "name": "ipython",
    "version": 3
   },
   "file_extension": ".py",
   "mimetype": "text/x-python",
   "name": "python",
   "nbconvert_exporter": "python",
   "pygments_lexer": "ipython3",
   "version": "3.10.8"
  }
 },
 "nbformat": 4,
 "nbformat_minor": 5
}
