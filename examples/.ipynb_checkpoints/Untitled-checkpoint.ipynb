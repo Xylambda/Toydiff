{
 "cells": [
  {
   "cell_type": "code",
   "execution_count": 1,
   "id": "a119e39f",
   "metadata": {},
   "outputs": [],
   "source": [
    "import torch\n",
    "import numpy as np\n",
    "import toydiff as tdf"
   ]
  },
  {
   "cell_type": "code",
   "execution_count": 2,
   "id": "7eeb0473",
   "metadata": {},
   "outputs": [],
   "source": [
    "lin_tdf = tdf.nn.blocks.Linear(10, 5)\n",
    "lin_torch = torch.nn.Linear(10, 5)"
   ]
  },
  {
   "cell_type": "code",
   "execution_count": 3,
   "id": "2cc17655",
   "metadata": {},
   "outputs": [],
   "source": [
    "input_ = np.random.rand(5, 10)"
   ]
  },
  {
   "cell_type": "code",
   "execution_count": null,
   "id": "77e7286b",
   "metadata": {},
   "outputs": [],
   "source": []
  },
  {
   "cell_type": "code",
   "execution_count": 6,
   "id": "485d17fc",
   "metadata": {},
   "outputs": [
    {
     "data": {
      "text/plain": [
       "Tensor([[ 0.65963364,  0.83599496,  0.36243007, -1.4575223 , -0.84111625],\n",
       "       [-0.8040682 ,  0.9266286 ,  1.646702  , -1.0465697 , -0.83788073],\n",
       "       [-0.6250944 , -0.5491149 , -0.0886869 , -1.4728655 , -0.70685536],\n",
       "       [-0.83394665, -0.9244554 , -0.26483598, -2.470198  , -0.8113657 ],\n",
       "       [ 1.5206875 ,  1.1588526 ,  0.82080775, -1.1996559 , -1.8349674 ]],\n",
       "      dtype=float32, backward_fn=<MatrixMultiplication(BinaryOp).Backward>)"
      ]
     },
     "execution_count": 6,
     "metadata": {},
     "output_type": "execute_result"
    }
   ],
   "source": [
    "out = lin_tdf(tdf.Tensor(input_))\n",
    "out"
   ]
  },
  {
   "cell_type": "code",
   "execution_count": 7,
   "id": "72e97979",
   "metadata": {},
   "outputs": [
    {
     "data": {
      "text/plain": [
       "tensor([[ 0.0492,  0.2248,  0.3840, -0.2589, -0.1317],\n",
       "        [-0.1824,  0.1574,  0.5611, -0.1861,  0.2225],\n",
       "        [-0.0503,  0.2963,  0.4429, -0.5605, -0.2753],\n",
       "        [ 0.3766, -0.1241,  0.5419, -0.5457, -0.0610],\n",
       "        [ 0.0977, -0.0762,  0.4951, -0.5333,  0.1203]],\n",
       "       grad_fn=<AddmmBackward0>)"
      ]
     },
     "execution_count": 7,
     "metadata": {},
     "output_type": "execute_result"
    }
   ],
   "source": [
    "lin_torch(torch.Tensor(input_))"
   ]
  },
  {
   "cell_type": "markdown",
   "id": "5b1c8285",
   "metadata": {},
   "source": [
    "------"
   ]
  },
  {
   "cell_type": "code",
   "execution_count": 8,
   "id": "dce069b9",
   "metadata": {},
   "outputs": [],
   "source": [
    "_np = np.random.rand(5)\n",
    "\n",
    "ta = torch.Tensor(_np)\n",
    "ta.requires_grad = True\n",
    "\n",
    "#tb = torch.std(ta, unbiased=False)\n",
    "\n",
    "\n",
    "tb = torch.pow(torch.pow(ta - ta.mean(), 2).sum() / len(ta), 0.5)\n",
    "\n",
    "a = tdf.Tensor(_np, track_gradient=True)\n",
    "b = tdf.std(a)"
   ]
  },
  {
   "cell_type": "code",
   "execution_count": 9,
   "id": "3c4c8683",
   "metadata": {},
   "outputs": [],
   "source": [
    "tb.backward()"
   ]
  },
  {
   "cell_type": "code",
   "execution_count": 10,
   "id": "af06411e",
   "metadata": {},
   "outputs": [
    {
     "data": {
      "text/plain": [
       "tensor(0.3277, grad_fn=<PowBackward0>)"
      ]
     },
     "execution_count": 10,
     "metadata": {},
     "output_type": "execute_result"
    }
   ],
   "source": [
    "tb"
   ]
  },
  {
   "cell_type": "code",
   "execution_count": 11,
   "id": "464af437",
   "metadata": {},
   "outputs": [
    {
     "data": {
      "text/plain": [
       "Tensor(0.32773304, dtype=float32, backward_fn=<Power(BinaryOp).Backward>)"
      ]
     },
     "execution_count": 11,
     "metadata": {},
     "output_type": "execute_result"
    }
   ],
   "source": [
    "b"
   ]
  },
  {
   "cell_type": "code",
   "execution_count": 12,
   "id": "436e5800",
   "metadata": {},
   "outputs": [
    {
     "name": "stderr",
     "output_type": "stream",
     "text": [
      "/Users/alejandroperezsanjuan/Git/toydiff/src/toydiff/core.py:567: RuntimeWarning: invalid value encountered in log\n",
      "  grad_b = (self.power * np.log(data_a)) * grad_np\n"
     ]
    }
   ],
   "source": [
    "b.backward()"
   ]
  },
  {
   "cell_type": "code",
   "execution_count": 13,
   "id": "687ce932",
   "metadata": {},
   "outputs": [
    {
     "data": {
      "text/plain": [
       "tensor([ 0.2574,  0.1015,  0.1049, -0.2812, -0.1827])"
      ]
     },
     "execution_count": 13,
     "metadata": {},
     "output_type": "execute_result"
    }
   ],
   "source": [
    "ta.grad"
   ]
  },
  {
   "cell_type": "code",
   "execution_count": 14,
   "id": "e929a417",
   "metadata": {},
   "outputs": [
    {
     "data": {
      "text/plain": [
       "Tensor([ 0.25742579,  0.10147171,  0.10493454, -0.28118128, -0.18265074],\n",
       "      dtype=float32, track_gradient=False)"
      ]
     },
     "execution_count": 14,
     "metadata": {},
     "output_type": "execute_result"
    }
   ],
   "source": [
    "a.gradient"
   ]
  },
  {
   "cell_type": "code",
   "execution_count": 15,
   "id": "2f6b1a3b",
   "metadata": {},
   "outputs": [],
   "source": [
    "_np = np.random.rand(10, 3)\n",
    "\n",
    "t = tdf.Tensor(_np, track_gradient=True)\n",
    "tt = torch.Tensor(_np)\n",
    "tt.requires_grad = True\n",
    "\n",
    "\n",
    "o = tdf.nn.functional.relu(t)\n",
    "ot = torch.nn.functional.relu(tt)"
   ]
  },
  {
   "cell_type": "code",
   "execution_count": 16,
   "id": "bccaaf53",
   "metadata": {},
   "outputs": [
    {
     "data": {
      "text/plain": [
       "Tensor([[0.9765041 , 0.46142346, 0.14244771],\n",
       "       [0.05392111, 0.03756724, 0.11819503],\n",
       "       [0.6554396 , 0.8304142 , 0.3320226 ],\n",
       "       [0.13808095, 0.4241065 , 0.56154364],\n",
       "       [0.2830783 , 0.29950333, 0.8534088 ],\n",
       "       [0.17507502, 0.492248  , 0.30265287],\n",
       "       [0.8984496 , 0.31905365, 0.5938523 ],\n",
       "       [0.5536449 , 0.9105648 , 0.81462026],\n",
       "       [0.04619663, 0.64904594, 0.9132469 ],\n",
       "       [0.01871407, 0.3239545 , 0.46765637]], dtype=float32, backward_fn=<Maximum(BinaryOp).Backward>)"
      ]
     },
     "execution_count": 16,
     "metadata": {},
     "output_type": "execute_result"
    }
   ],
   "source": [
    "o"
   ]
  },
  {
   "cell_type": "code",
   "execution_count": 17,
   "id": "236c3132",
   "metadata": {},
   "outputs": [
    {
     "data": {
      "text/plain": [
       "tensor([[0.9765, 0.4614, 0.1424],\n",
       "        [0.0539, 0.0376, 0.1182],\n",
       "        [0.6554, 0.8304, 0.3320],\n",
       "        [0.1381, 0.4241, 0.5615],\n",
       "        [0.2831, 0.2995, 0.8534],\n",
       "        [0.1751, 0.4922, 0.3027],\n",
       "        [0.8984, 0.3191, 0.5939],\n",
       "        [0.5536, 0.9106, 0.8146],\n",
       "        [0.0462, 0.6490, 0.9132],\n",
       "        [0.0187, 0.3240, 0.4677]], grad_fn=<ReluBackward0>)"
      ]
     },
     "execution_count": 17,
     "metadata": {},
     "output_type": "execute_result"
    }
   ],
   "source": [
    "ot"
   ]
  },
  {
   "cell_type": "code",
   "execution_count": 18,
   "id": "449202ef",
   "metadata": {},
   "outputs": [],
   "source": [
    "ot.backward(torch.ones_like(ot))"
   ]
  },
  {
   "cell_type": "code",
   "execution_count": 19,
   "id": "65c02aab",
   "metadata": {},
   "outputs": [
    {
     "data": {
      "text/plain": [
       "tensor([[1., 1., 1.],\n",
       "        [1., 1., 1.],\n",
       "        [1., 1., 1.],\n",
       "        [1., 1., 1.],\n",
       "        [1., 1., 1.],\n",
       "        [1., 1., 1.],\n",
       "        [1., 1., 1.],\n",
       "        [1., 1., 1.],\n",
       "        [1., 1., 1.],\n",
       "        [1., 1., 1.]])"
      ]
     },
     "execution_count": 19,
     "metadata": {},
     "output_type": "execute_result"
    }
   ],
   "source": [
    "tt.grad"
   ]
  },
  {
   "cell_type": "code",
   "execution_count": 20,
   "id": "9b066f94",
   "metadata": {},
   "outputs": [],
   "source": [
    "o.backward()"
   ]
  },
  {
   "cell_type": "code",
   "execution_count": 21,
   "id": "ecc4b111",
   "metadata": {},
   "outputs": [
    {
     "data": {
      "text/plain": [
       "Tensor([[1., 1., 1.],\n",
       "       [1., 1., 1.],\n",
       "       [1., 1., 1.],\n",
       "       [1., 1., 1.],\n",
       "       [1., 1., 1.],\n",
       "       [1., 1., 1.],\n",
       "       [1., 1., 1.],\n",
       "       [1., 1., 1.],\n",
       "       [1., 1., 1.],\n",
       "       [1., 1., 1.]], dtype=float32, track_gradient=False)"
      ]
     },
     "execution_count": 21,
     "metadata": {},
     "output_type": "execute_result"
    }
   ],
   "source": [
    "t.gradient"
   ]
  },
  {
   "cell_type": "code",
   "execution_count": null,
   "id": "5b926ade",
   "metadata": {},
   "outputs": [],
   "source": []
  },
  {
   "cell_type": "markdown",
   "id": "40ce69f7",
   "metadata": {},
   "source": [
    "----"
   ]
  }
 ],
 "metadata": {
  "kernelspec": {
   "display_name": "Python 3 (ipykernel)",
   "language": "python",
   "name": "python3"
  },
  "language_info": {
   "codemirror_mode": {
    "name": "ipython",
    "version": 3
   },
   "file_extension": ".py",
   "mimetype": "text/x-python",
   "name": "python",
   "nbconvert_exporter": "python",
   "pygments_lexer": "ipython3",
   "version": "3.10.8"
  }
 },
 "nbformat": 4,
 "nbformat_minor": 5
}
