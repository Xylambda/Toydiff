{
 "cells": [
  {
   "cell_type": "code",
   "execution_count": 1,
   "id": "a119e39f",
   "metadata": {},
   "outputs": [],
   "source": [
    "import torch\n",
    "import numpy as np\n",
    "import toydiff as tdf"
   ]
  },
  {
   "cell_type": "code",
   "execution_count": 2,
   "id": "c3f50f88",
   "metadata": {},
   "outputs": [],
   "source": [
    "lin_tdf = tdf.nn.blocks.Linear(10, 5)\n",
    "lin_torch = torch.nn.Linear(10, 5)"
   ]
  },
  {
   "cell_type": "code",
   "execution_count": 3,
   "id": "ebb671bc",
   "metadata": {},
   "outputs": [],
   "source": [
    "input_ = np.random.rand(5, 10)"
   ]
  },
  {
   "cell_type": "code",
   "execution_count": 4,
   "id": "4734a873",
   "metadata": {},
   "outputs": [
    {
     "data": {
      "text/plain": [
       "Tensor([[-0.83835363,  1.1883441 ,  2.2590506 ,  0.4531973 ,  3.1591146 ],\n",
       "       [-0.5049847 ,  0.73968405,  0.56039584,  1.085771  ,  3.2177656 ],\n",
       "       [ 1.5572902 ,  0.4186855 ,  0.39510012, -0.09305665,  3.1325283 ],\n",
       "       [ 0.32900605,  2.2129202 ,  1.4429784 ,  1.047755  ,  2.8105006 ],\n",
       "       [-0.49108532,  0.56768715,  0.24139792,  0.526776  ,  3.130049  ]],\n",
       "      dtype=float32, backward_fn=<MatrixMultiplication(BinaryOp).Backward>)"
      ]
     },
     "execution_count": 4,
     "metadata": {},
     "output_type": "execute_result"
    }
   ],
   "source": [
    "out = lin_tdf(tdf.Tensor(input_))\n",
    "out"
   ]
  },
  {
   "cell_type": "code",
   "execution_count": 5,
   "id": "31c999be",
   "metadata": {},
   "outputs": [
    {
     "data": {
      "text/plain": [
       "tensor([[ 0.3242,  0.2446,  0.7589, -0.5982, -0.2495],\n",
       "        [ 0.3039,  0.0342,  0.5300, -0.2303, -0.2337],\n",
       "        [ 0.2961,  0.1463,  0.1488, -0.4571, -0.5079],\n",
       "        [ 0.3390, -0.0771,  0.6254, -0.3663, -0.2012],\n",
       "        [-0.0672, -0.2150,  0.5231, -0.5885, -0.4516]],\n",
       "       grad_fn=<AddmmBackward0>)"
      ]
     },
     "execution_count": 5,
     "metadata": {},
     "output_type": "execute_result"
    }
   ],
   "source": [
    "lin_torch(torch.Tensor(input_))"
   ]
  },
  {
   "cell_type": "code",
   "execution_count": null,
   "id": "7a60e925",
   "metadata": {},
   "outputs": [],
   "source": []
  },
  {
   "cell_type": "code",
   "execution_count": null,
   "id": "05a2fb71",
   "metadata": {},
   "outputs": [],
   "source": []
  },
  {
   "cell_type": "code",
   "execution_count": null,
   "id": "64b0a85d",
   "metadata": {},
   "outputs": [],
   "source": []
  },
  {
   "cell_type": "code",
   "execution_count": null,
   "id": "9df92418",
   "metadata": {},
   "outputs": [],
   "source": []
  }
 ],
 "metadata": {
  "kernelspec": {
   "display_name": "Python 3 (ipykernel)",
   "language": "python",
   "name": "python3"
  },
  "language_info": {
   "codemirror_mode": {
    "name": "ipython",
    "version": 3
   },
   "file_extension": ".py",
   "mimetype": "text/x-python",
   "name": "python",
   "nbconvert_exporter": "python",
   "pygments_lexer": "ipython3",
   "version": "3.10.8"
  }
 },
 "nbformat": 4,
 "nbformat_minor": 5
}
