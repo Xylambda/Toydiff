{
 "cells": [
  {
   "cell_type": "code",
   "execution_count": 1,
   "id": "a119e39f",
   "metadata": {},
   "outputs": [],
   "source": [
    "import torch\n",
    "import numpy as np\n",
    "import toydiff as tdf"
   ]
  },
  {
   "cell_type": "code",
   "execution_count": 2,
   "id": "21201f1c",
   "metadata": {},
   "outputs": [],
   "source": [
    "a = tdf.Tensor(np.random.rand(3,3), track_gradient=True)\n",
    "b = tdf.Tensor(np.random.rand(3,3), track_gradient=True)\n",
    "c = tdf.matmul(a, b)\n",
    "d = tdf.log(c)\n",
    "e = tdf.sum(d)\n",
    "e.backward()\n",
    "\n",
    "t_a = torch.Tensor(a.numpy())\n",
    "t_a.requires_grad = True\n",
    "\n",
    "t_b = torch.Tensor(b.numpy())\n",
    "t_b.requires_grad = True\n",
    "\n",
    "t_c = torch.matmul(t_a, t_b)\n",
    "t_c.retain_grad()\n",
    "\n",
    "t_d = torch.log(t_c)\n",
    "t_d.retain_grad()\n",
    "\n",
    "t_e = torch.sum(t_d)\n",
    "t_e.retain_grad()\n",
    "\n",
    "t_e.backward()"
   ]
  },
  {
   "cell_type": "code",
   "execution_count": 3,
   "id": "a6bd5fd4",
   "metadata": {},
   "outputs": [
    {
     "data": {
      "text/plain": [
       "Tensor(-1.0176799, dtype=float32, backward_fn=<Sum(ReduceOp).Backward>, track_gradient=True)"
      ]
     },
     "execution_count": 3,
     "metadata": {},
     "output_type": "execute_result"
    }
   ],
   "source": [
    "e"
   ]
  },
  {
   "cell_type": "code",
   "execution_count": null,
   "id": "1343442b",
   "metadata": {},
   "outputs": [],
   "source": []
  },
  {
   "cell_type": "code",
   "execution_count": 4,
   "id": "5b5f6c30",
   "metadata": {},
   "outputs": [
    {
     "data": {
      "text/plain": [
       "tensor([[0.4425, 2.7017, 1.8910],\n",
       "        [0.3923, 2.4761, 1.7355],\n",
       "        [0.3225, 1.9394, 1.3591]])"
      ]
     },
     "execution_count": 4,
     "metadata": {},
     "output_type": "execute_result"
    }
   ],
   "source": [
    "t_a.grad"
   ]
  },
  {
   "cell_type": "code",
   "execution_count": null,
   "id": "494233d4",
   "metadata": {},
   "outputs": [],
   "source": []
  },
  {
   "cell_type": "code",
   "execution_count": 54,
   "id": "e45e52ee",
   "metadata": {},
   "outputs": [],
   "source": [
    "rand = np.random.rand(1,5)\n",
    "\n",
    "xt = torch.Tensor(rand)\n",
    "xt.requires_grad = True\n",
    "\n",
    "yt = xt.T\n",
    "yt.backward(torch.ones_like(yt))\n",
    "\n",
    "# ----------------------------------\n",
    "x = tdf.Tensor(rand, track_gradient=True)\n",
    "\n",
    "y = x.T\n",
    "y.backward()"
   ]
  },
  {
   "cell_type": "code",
   "execution_count": 55,
   "id": "808b5c23",
   "metadata": {},
   "outputs": [
    {
     "data": {
      "text/plain": [
       "tensor([[1., 1., 1., 1., 1.]])"
      ]
     },
     "execution_count": 55,
     "metadata": {},
     "output_type": "execute_result"
    }
   ],
   "source": [
    "xt.grad"
   ]
  },
  {
   "cell_type": "code",
   "execution_count": 36,
   "id": "87363f06",
   "metadata": {},
   "outputs": [
    {
     "data": {
      "text/plain": [
       "tensor([[0.9845, 0.2514, 0.7695, 0.4666, 0.5898]], requires_grad=True)"
      ]
     },
     "execution_count": 36,
     "metadata": {},
     "output_type": "execute_result"
    }
   ],
   "source": [
    "xt"
   ]
  },
  {
   "cell_type": "code",
   "execution_count": 37,
   "id": "8ada2b54",
   "metadata": {
    "scrolled": true
   },
   "outputs": [
    {
     "data": {
      "text/plain": [
       "Tensor([[0.9845327 , 0.25135055, 0.76948625, 0.46658224, 0.5898017 ]],\n",
       "      dtype=float32, track_gradient=True)"
      ]
     },
     "execution_count": 37,
     "metadata": {},
     "output_type": "execute_result"
    }
   ],
   "source": [
    "x"
   ]
  },
  {
   "cell_type": "code",
   "execution_count": 38,
   "id": "b6c06b18",
   "metadata": {},
   "outputs": [
    {
     "data": {
      "text/plain": [
       "tensor([[1., 1., 1., 1., 1.]])"
      ]
     },
     "execution_count": 38,
     "metadata": {},
     "output_type": "execute_result"
    }
   ],
   "source": [
    "xt.grad"
   ]
  },
  {
   "cell_type": "code",
   "execution_count": 39,
   "id": "6d12d6fe",
   "metadata": {},
   "outputs": [
    {
     "data": {
      "text/plain": [
       "Tensor([[1., 1., 1., 1., 1.]], dtype=float32, track_gradient=False)"
      ]
     },
     "execution_count": 39,
     "metadata": {},
     "output_type": "execute_result"
    }
   ],
   "source": [
    "x.gradient"
   ]
  },
  {
   "cell_type": "code",
   "execution_count": 42,
   "id": "787d58e8",
   "metadata": {},
   "outputs": [
    {
     "data": {
      "text/plain": [
       "tensor([[0.9845],\n",
       "        [0.2514],\n",
       "        [0.7695],\n",
       "        [0.4666],\n",
       "        [0.5898]], grad_fn=<PermuteBackward0>)"
      ]
     },
     "execution_count": 42,
     "metadata": {},
     "output_type": "execute_result"
    }
   ],
   "source": [
    "yt"
   ]
  },
  {
   "cell_type": "code",
   "execution_count": 43,
   "id": "aed4f6a5",
   "metadata": {},
   "outputs": [
    {
     "data": {
      "text/plain": [
       "Tensor([[0.9845327 ],\n",
       "       [0.25135055],\n",
       "       [0.76948625],\n",
       "       [0.46658224],\n",
       "       [0.5898017 ]], dtype=float32, backward_fn=<Transpose(ReduceOp).Backward>, track_gradient=True)"
      ]
     },
     "execution_count": 43,
     "metadata": {},
     "output_type": "execute_result"
    }
   ],
   "source": [
    "y"
   ]
  },
  {
   "cell_type": "code",
   "execution_count": null,
   "id": "6fe1afd6",
   "metadata": {},
   "outputs": [],
   "source": []
  },
  {
   "cell_type": "code",
   "execution_count": null,
   "id": "e5b98c07",
   "metadata": {},
   "outputs": [],
   "source": []
  },
  {
   "cell_type": "code",
   "execution_count": 14,
   "id": "7bcea51c",
   "metadata": {},
   "outputs": [],
   "source": [
    "_input = np.random.rand(3,3)\n",
    "_exponent = np.random.rand(3)\n",
    "\n",
    "i = torch.Tensor(_input)\n",
    "i.requires_grad = True\n",
    "\n",
    "\n",
    "e = torch.Tensor(_exponent)\n",
    "e.requires_grad = True\n",
    "\n",
    "\n",
    "y = torch.pow(i, e)"
   ]
  },
  {
   "cell_type": "code",
   "execution_count": 15,
   "id": "75a9d260",
   "metadata": {},
   "outputs": [],
   "source": [
    "y.backward(torch.ones_like(y))"
   ]
  },
  {
   "cell_type": "code",
   "execution_count": 16,
   "id": "c7ecfe18",
   "metadata": {},
   "outputs": [
    {
     "data": {
      "text/plain": [
       "array([[1.2601501 , 0.5965222 , 0.97348064],\n",
       "       [0.92101836, 0.2001129 , 0.9567739 ],\n",
       "       [1.0373209 , 0.1683466 , 1.1844739 ]], dtype=float32)"
      ]
     },
     "execution_count": 16,
     "metadata": {},
     "output_type": "execute_result"
    }
   ],
   "source": [
    "i.grad.numpy()"
   ]
  },
  {
   "cell_type": "code",
   "execution_count": 17,
   "id": "b90b6949",
   "metadata": {},
   "outputs": [
    {
     "data": {
      "text/plain": [
       "array([-1.153547 , -1.9898987, -1.4319437], dtype=float32)"
      ]
     },
     "execution_count": 17,
     "metadata": {},
     "output_type": "execute_result"
    }
   ],
   "source": [
    "e.grad.numpy()"
   ]
  },
  {
   "cell_type": "code",
   "execution_count": 18,
   "id": "b411a18a",
   "metadata": {},
   "outputs": [],
   "source": [
    "t = np.random.rand(1,5)"
   ]
  },
  {
   "cell_type": "code",
   "execution_count": 19,
   "id": "8e860e5b",
   "metadata": {},
   "outputs": [
    {
     "data": {
      "text/plain": [
       "array([[0.61209792],\n",
       "       [0.59615806],\n",
       "       [0.52606323],\n",
       "       [0.33403726],\n",
       "       [0.12361711]])"
      ]
     },
     "execution_count": 19,
     "metadata": {},
     "output_type": "execute_result"
    }
   ],
   "source": [
    "np.transpose(t)"
   ]
  },
  {
   "cell_type": "code",
   "execution_count": 20,
   "id": "47295f2d",
   "metadata": {},
   "outputs": [
    {
     "data": {
      "text/plain": [
       "array([[0.61209792],\n",
       "       [0.59615806],\n",
       "       [0.52606323],\n",
       "       [0.33403726],\n",
       "       [0.12361711]])"
      ]
     },
     "execution_count": 20,
     "metadata": {},
     "output_type": "execute_result"
    }
   ],
   "source": [
    "np.reshape(t, (-1,1))"
   ]
  },
  {
   "cell_type": "code",
   "execution_count": null,
   "id": "3e925138",
   "metadata": {},
   "outputs": [],
   "source": []
  },
  {
   "cell_type": "code",
   "execution_count": null,
   "id": "a9c3e267",
   "metadata": {},
   "outputs": [],
   "source": []
  },
  {
   "cell_type": "code",
   "execution_count": 21,
   "id": "68a1f7ec",
   "metadata": {},
   "outputs": [],
   "source": [
    "from scipy.ndimage import correlate1d"
   ]
  },
  {
   "cell_type": "code",
   "execution_count": 22,
   "id": "310a617b",
   "metadata": {},
   "outputs": [],
   "source": [
    "from torch.nn.functional import conv1d"
   ]
  },
  {
   "cell_type": "code",
   "execution_count": 23,
   "id": "97202916",
   "metadata": {},
   "outputs": [],
   "source": [
    "_in = np.array([5, 20, 2, 1, 0, 9])\n",
    "_we = np.array([1, 2])"
   ]
  },
  {
   "cell_type": "code",
   "execution_count": 24,
   "id": "b69380e6",
   "metadata": {},
   "outputs": [
    {
     "data": {
      "text/plain": [
       "array([15, 45, 24,  4,  1, 18])"
      ]
     },
     "execution_count": 24,
     "metadata": {},
     "output_type": "execute_result"
    }
   ],
   "source": [
    "correlate1d(_in, _we)"
   ]
  },
  {
   "cell_type": "code",
   "execution_count": 25,
   "id": "feffcf46",
   "metadata": {},
   "outputs": [
    {
     "name": "stderr",
     "output_type": "stream",
     "text": [
      "/var/folders/3c/x1mjmgs17b7fb7d0kw_22zyr0000gn/T/ipykernel_89298/2683720375.py:1: UserWarning: Creating a tensor from a list of numpy.ndarrays is extremely slow. Please consider converting the list to a single numpy.ndarray with numpy.array() before converting to a tensor. (Triggered internally at /Users/runner/work/pytorch/pytorch/pytorch/torch/csrc/utils/tensor_new.cpp:233.)\n",
      "  t_in = torch.Tensor([_in])\n"
     ]
    }
   ],
   "source": [
    "t_in = torch.Tensor([_in])\n",
    "t_we = torch.Tensor([[_we]])"
   ]
  },
  {
   "cell_type": "code",
   "execution_count": 26,
   "id": "4fd1b45b",
   "metadata": {},
   "outputs": [
    {
     "data": {
      "text/plain": [
       "tensor([[45., 24.,  4.,  1., 18.]])"
      ]
     },
     "execution_count": 26,
     "metadata": {},
     "output_type": "execute_result"
    }
   ],
   "source": [
    "conv1d(t_in, t_we)"
   ]
  },
  {
   "cell_type": "code",
   "execution_count": null,
   "id": "7de99e9d",
   "metadata": {},
   "outputs": [],
   "source": []
  },
  {
   "cell_type": "code",
   "execution_count": null,
   "id": "3d5dc963",
   "metadata": {},
   "outputs": [],
   "source": []
  },
  {
   "cell_type": "code",
   "execution_count": 27,
   "id": "da33b7af",
   "metadata": {},
   "outputs": [],
   "source": [
    "x1 = tdf.Tensor(_input, track_gradient=True)\n",
    "y1 = tdf.Tensor(_exponent, track_gradient=True)\n",
    "\n",
    "out = tdf.power(x1, y1)\n",
    "out.backward()"
   ]
  },
  {
   "cell_type": "code",
   "execution_count": 28,
   "id": "555344ec",
   "metadata": {},
   "outputs": [],
   "source": [
    "class Foo:\n",
    "    def __init__(self, val):\n",
    "        self.val = val\n",
    "\n",
    "    def __pow__(self, exponent):\n",
    "        return Foo(self.val ** exponent)\n",
    "\n",
    "    def __rpow__(self, base):\n",
    "        return Foo(base ** self.val)\n",
    "\n",
    "    def __repr__(self):\n",
    "        return f\"Foo({self.val})\""
   ]
  },
  {
   "cell_type": "code",
   "execution_count": 29,
   "id": "730c49bf",
   "metadata": {},
   "outputs": [],
   "source": [
    "foo = Foo(5)"
   ]
  },
  {
   "cell_type": "code",
   "execution_count": 30,
   "id": "7af159f0",
   "metadata": {},
   "outputs": [
    {
     "data": {
      "text/plain": [
       "Foo(25)"
      ]
     },
     "execution_count": 30,
     "metadata": {},
     "output_type": "execute_result"
    }
   ],
   "source": [
    "foo ** 2"
   ]
  },
  {
   "cell_type": "code",
   "execution_count": 31,
   "id": "1e5d97f1",
   "metadata": {},
   "outputs": [
    {
     "data": {
      "text/plain": [
       "Foo(32)"
      ]
     },
     "execution_count": 31,
     "metadata": {},
     "output_type": "execute_result"
    }
   ],
   "source": [
    "2 ** foo"
   ]
  },
  {
   "cell_type": "code",
   "execution_count": null,
   "id": "03374b55",
   "metadata": {},
   "outputs": [],
   "source": []
  },
  {
   "cell_type": "code",
   "execution_count": null,
   "id": "fe0efe57",
   "metadata": {},
   "outputs": [],
   "source": []
  },
  {
   "cell_type": "code",
   "execution_count": 32,
   "id": "1e417140",
   "metadata": {
    "scrolled": true
   },
   "outputs": [
    {
     "data": {
      "text/plain": [
       "Tensor([[1.2601501 , 0.5965222 , 0.97348064],\n",
       "       [0.92101836, 0.2001129 , 0.9567739 ],\n",
       "       [1.0373209 , 0.1683466 , 1.1844739 ]], dtype=float32, track_gradient=False)"
      ]
     },
     "execution_count": 32,
     "metadata": {},
     "output_type": "execute_result"
    }
   ],
   "source": [
    "x1.gradient"
   ]
  },
  {
   "cell_type": "code",
   "execution_count": 33,
   "id": "adad21f7",
   "metadata": {},
   "outputs": [
    {
     "data": {
      "text/plain": [
       "Tensor([-1.153547 , -1.9898987, -1.4319437], dtype=float32, track_gradient=False)"
      ]
     },
     "execution_count": 33,
     "metadata": {},
     "output_type": "execute_result"
    }
   ],
   "source": [
    "y1.gradient"
   ]
  },
  {
   "cell_type": "code",
   "execution_count": 34,
   "id": "cf744d5f",
   "metadata": {},
   "outputs": [
    {
     "ename": "SyntaxError",
     "evalue": "invalid syntax (1947214667.py, line 1)",
     "output_type": "error",
     "traceback": [
      "\u001b[0;36m  Cell \u001b[0;32mIn[34], line 1\u001b[0;36m\u001b[0m\n\u001b[0;31m    ---\u001b[0m\n\u001b[0m       ^\u001b[0m\n\u001b[0;31mSyntaxError\u001b[0m\u001b[0;31m:\u001b[0m invalid syntax\n"
     ]
    }
   ],
   "source": [
    "---"
   ]
  },
  {
   "cell_type": "code",
   "execution_count": null,
   "id": "b9de1ad8",
   "metadata": {},
   "outputs": [],
   "source": []
  },
  {
   "cell_type": "code",
   "execution_count": null,
   "id": "32aba3dc",
   "metadata": {},
   "outputs": [],
   "source": [
    "arr = np.ones((3, 3))\n",
    "arr[0][0] = 50\n",
    "arr[1][0] = -5\n",
    "arr[1][1] = 20\n",
    "a = tdf.Tensor(arr, track_gradient=True)\n",
    "\n",
    "# ---------------------------------------\n",
    "arr2 = np.ones(3)\n",
    "arr2[0] = 20\n",
    "b = tdf.Tensor(arr2, track_gradient=True)"
   ]
  },
  {
   "cell_type": "code",
   "execution_count": null,
   "id": "ca14e23a",
   "metadata": {},
   "outputs": [],
   "source": [
    "c = tdf.multiply(a, b)"
   ]
  },
  {
   "cell_type": "code",
   "execution_count": null,
   "id": "9d550ffc",
   "metadata": {},
   "outputs": [],
   "source": [
    "c.backward()"
   ]
  },
  {
   "cell_type": "code",
   "execution_count": null,
   "id": "83c71f34",
   "metadata": {},
   "outputs": [],
   "source": [
    "c"
   ]
  },
  {
   "cell_type": "code",
   "execution_count": null,
   "id": "41d04e36",
   "metadata": {},
   "outputs": [],
   "source": [
    "a.gradient"
   ]
  },
  {
   "cell_type": "code",
   "execution_count": null,
   "id": "8929349a",
   "metadata": {},
   "outputs": [],
   "source": [
    "b.gradient"
   ]
  },
  {
   "cell_type": "code",
   "execution_count": null,
   "id": "3d43209e",
   "metadata": {},
   "outputs": [],
   "source": []
  },
  {
   "cell_type": "code",
   "execution_count": null,
   "id": "c869678f",
   "metadata": {},
   "outputs": [],
   "source": [
    "x1 = torch.ones(3, 3)\n",
    "x1[0][0] = 50\n",
    "x1[1][0] = -5\n",
    "x1[1][1] = 20\n",
    "x1.requires_grad = True\n",
    "\n",
    "x2 = torch.ones(3)\n",
    "x2[0] = 20\n",
    "x2.requires_grad = True\n",
    "\n",
    "#x3 = x2 + x1\n",
    "\n",
    "x3 = x1 * x2\n",
    "b_grad = torch.ones_like(x3)\n",
    "x3.backward(b_grad)"
   ]
  },
  {
   "cell_type": "code",
   "execution_count": null,
   "id": "76d8f904",
   "metadata": {
    "scrolled": true
   },
   "outputs": [],
   "source": [
    "x1"
   ]
  },
  {
   "cell_type": "code",
   "execution_count": null,
   "id": "1ce2b0f7",
   "metadata": {},
   "outputs": [],
   "source": [
    "x2"
   ]
  },
  {
   "cell_type": "code",
   "execution_count": null,
   "id": "4de4b91f",
   "metadata": {},
   "outputs": [],
   "source": [
    "x1.grad"
   ]
  },
  {
   "cell_type": "code",
   "execution_count": null,
   "id": "5dfc1f73",
   "metadata": {},
   "outputs": [],
   "source": [
    "x2.grad"
   ]
  },
  {
   "cell_type": "markdown",
   "id": "93a0fbca",
   "metadata": {},
   "source": [
    "----"
   ]
  },
  {
   "cell_type": "code",
   "execution_count": null,
   "id": "6d88c8ee",
   "metadata": {},
   "outputs": [],
   "source": [
    "----"
   ]
  },
  {
   "cell_type": "code",
   "execution_count": null,
   "id": "6f5f44c4",
   "metadata": {},
   "outputs": [],
   "source": [
    "g = torch.ones(3,3) * 5\n",
    "g.requires_grad = True"
   ]
  },
  {
   "cell_type": "code",
   "execution_count": null,
   "id": "a4283add",
   "metadata": {},
   "outputs": [],
   "source": [
    "#g[0].backward(torch.ones(3))\n",
    "#g.grad"
   ]
  },
  {
   "cell_type": "code",
   "execution_count": null,
   "id": "3f07fa31",
   "metadata": {},
   "outputs": [],
   "source": [
    "g[1:]"
   ]
  },
  {
   "cell_type": "code",
   "execution_count": null,
   "id": "6eb04930",
   "metadata": {},
   "outputs": [],
   "source": [
    "g[1:].backward(torch.ones(2,3))\n",
    "g.grad"
   ]
  },
  {
   "cell_type": "code",
   "execution_count": null,
   "id": "60569adc",
   "metadata": {},
   "outputs": [],
   "source": []
  },
  {
   "cell_type": "code",
   "execution_count": null,
   "id": "d9bfbd59",
   "metadata": {},
   "outputs": [],
   "source": [
    "t_e.backward()"
   ]
  },
  {
   "cell_type": "code",
   "execution_count": null,
   "id": "4da195f6",
   "metadata": {},
   "outputs": [],
   "source": [
    "t_d.grad"
   ]
  },
  {
   "cell_type": "code",
   "execution_count": null,
   "id": "8fb9a8a5",
   "metadata": {},
   "outputs": [],
   "source": [
    "c"
   ]
  },
  {
   "cell_type": "code",
   "execution_count": null,
   "id": "5cad52fe",
   "metadata": {},
   "outputs": [],
   "source": []
  },
  {
   "cell_type": "code",
   "execution_count": null,
   "id": "4e3e610d",
   "metadata": {},
   "outputs": [],
   "source": [
    "d.gradient"
   ]
  },
  {
   "cell_type": "code",
   "execution_count": null,
   "id": "79c1ffd6",
   "metadata": {},
   "outputs": [],
   "source": [
    "z = torch.zeros(3,3)"
   ]
  },
  {
   "cell_type": "code",
   "execution_count": null,
   "id": "f55b2273",
   "metadata": {},
   "outputs": [],
   "source": [
    "np.zeros((3,3)).astype(int)"
   ]
  },
  {
   "cell_type": "code",
   "execution_count": null,
   "id": "dee05a02",
   "metadata": {},
   "outputs": [],
   "source": [
    "e.backward()"
   ]
  },
  {
   "cell_type": "code",
   "execution_count": null,
   "id": "01f74c3a",
   "metadata": {},
   "outputs": [],
   "source": []
  },
  {
   "cell_type": "code",
   "execution_count": null,
   "id": "2a3756d8",
   "metadata": {},
   "outputs": [],
   "source": []
  },
  {
   "cell_type": "code",
   "execution_count": null,
   "id": "3dd9c914",
   "metadata": {},
   "outputs": [],
   "source": [
    "b.gradient.numpy()"
   ]
  },
  {
   "cell_type": "code",
   "execution_count": null,
   "id": "83ab5d42",
   "metadata": {},
   "outputs": [],
   "source": [
    "t_b.grad.numpy()"
   ]
  },
  {
   "cell_type": "code",
   "execution_count": null,
   "id": "91b3e6c3",
   "metadata": {},
   "outputs": [],
   "source": [
    "c.gradient"
   ]
  },
  {
   "cell_type": "code",
   "execution_count": null,
   "id": "0218a110",
   "metadata": {},
   "outputs": [],
   "source": [
    "t_c.grad"
   ]
  },
  {
   "cell_type": "code",
   "execution_count": null,
   "id": "dcaf969a",
   "metadata": {},
   "outputs": [],
   "source": []
  },
  {
   "cell_type": "code",
   "execution_count": null,
   "id": "77156162",
   "metadata": {},
   "outputs": [],
   "source": []
  },
  {
   "cell_type": "raw",
   "id": "2bad84f4",
   "metadata": {},
   "source": [
    "----"
   ]
  }
 ],
 "metadata": {
  "kernelspec": {
   "display_name": "Python 3 (ipykernel)",
   "language": "python",
   "name": "python3"
  },
  "language_info": {
   "codemirror_mode": {
    "name": "ipython",
    "version": 3
   },
   "file_extension": ".py",
   "mimetype": "text/x-python",
   "name": "python",
   "nbconvert_exporter": "python",
   "pygments_lexer": "ipython3",
   "version": "3.10.8"
  }
 },
 "nbformat": 4,
 "nbformat_minor": 5
}
