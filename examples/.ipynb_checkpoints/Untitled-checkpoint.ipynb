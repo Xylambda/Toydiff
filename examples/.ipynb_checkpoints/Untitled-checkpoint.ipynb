{
 "cells": [
  {
   "cell_type": "code",
   "execution_count": 1,
   "id": "a119e39f",
   "metadata": {},
   "outputs": [],
   "source": [
    "import torch\n",
    "import numpy as np\n",
    "import toydiff as tdf"
   ]
  },
  {
   "cell_type": "code",
   "execution_count": 2,
   "id": "ac36331b",
   "metadata": {},
   "outputs": [],
   "source": [
    "_a = np.ones((3,3)) * 2\n",
    "_a[0, 2] = 23\n",
    "_a[2, 2] = 9\n",
    "\n",
    "_b = np.ones(3) * 6\n",
    "\n",
    "\n",
    "ta = torch.Tensor(_a)\n",
    "ta.requires_grad = True\n",
    "\n",
    "tb = torch.Tensor(_b)\n",
    "tb.requires_grad = True\n",
    "\n",
    "tc = torch.divide(ta, tb)\n",
    "tc.backward(torch.ones_like(tc))\n",
    "\n",
    "# --------------------------------\n",
    "a = tdf.Tensor(_a, track_gradient=True)\n",
    "b = tdf.Tensor(_b, track_gradient=True)\n",
    "\n",
    "c = a / b\n",
    "c.backward()"
   ]
  },
  {
   "cell_type": "code",
   "execution_count": 3,
   "id": "7afc3cc0",
   "metadata": {},
   "outputs": [
    {
     "data": {
      "text/plain": [
       "Tensor([[0.16666667, 0.16666667, 0.16666667],\n",
       "       [0.16666667, 0.16666667, 0.16666667],\n",
       "       [0.16666667, 0.16666667, 0.16666667]], dtype=float32, track_gradient=False)"
      ]
     },
     "execution_count": 3,
     "metadata": {},
     "output_type": "execute_result"
    }
   ],
   "source": [
    "a.gradient"
   ]
  },
  {
   "cell_type": "code",
   "execution_count": 4,
   "id": "7005b6c6",
   "metadata": {},
   "outputs": [
    {
     "data": {
      "text/plain": [
       "array([[0.16666667, 0.16666667, 0.16666667],\n",
       "       [0.16666667, 0.16666667, 0.16666667],\n",
       "       [0.16666667, 0.16666667, 0.16666667]], dtype=float32)"
      ]
     },
     "execution_count": 4,
     "metadata": {},
     "output_type": "execute_result"
    }
   ],
   "source": [
    "ta.grad.numpy()"
   ]
  },
  {
   "cell_type": "code",
   "execution_count": 5,
   "id": "11332fd1",
   "metadata": {},
   "outputs": [
    {
     "data": {
      "text/plain": [
       "Tensor([-0.16666667, -0.16666667, -0.9444445 ], dtype=float32, track_gradient=False)"
      ]
     },
     "execution_count": 5,
     "metadata": {},
     "output_type": "execute_result"
    }
   ],
   "source": [
    "b.gradient"
   ]
  },
  {
   "cell_type": "code",
   "execution_count": 6,
   "id": "1cba37be",
   "metadata": {},
   "outputs": [
    {
     "data": {
      "text/plain": [
       "array([-0.16666667, -0.16666667, -0.9444445 ], dtype=float32)"
      ]
     },
     "execution_count": 6,
     "metadata": {},
     "output_type": "execute_result"
    }
   ],
   "source": [
    "tb.grad.numpy()"
   ]
  },
  {
   "cell_type": "code",
   "execution_count": 7,
   "id": "92db137b",
   "metadata": {},
   "outputs": [],
   "source": [
    "from toydiff.core import OperationRunner"
   ]
  },
  {
   "cell_type": "code",
   "execution_count": 8,
   "id": "7423925c",
   "metadata": {},
   "outputs": [
    {
     "data": {
      "text/plain": [
       "array([[ 2.,  2., 23.],\n",
       "       [ 2.,  2.,  2.],\n",
       "       [ 2.,  2.,  9.]], dtype=float32)"
      ]
     },
     "execution_count": 8,
     "metadata": {},
     "output_type": "execute_result"
    }
   ],
   "source": [
    "ta.detach().numpy()"
   ]
  },
  {
   "cell_type": "code",
   "execution_count": 13,
   "id": "9623b5b6",
   "metadata": {},
   "outputs": [],
   "source": [
    "class TensorTester:\n",
    "    def __init__(self, rtol=1e-06):\n",
    "        self.rtol = rtol\n",
    "    \n",
    "    def _generate_input(self, shape):\n",
    "        arr = np.random.rand(*shape)\n",
    "        tensor = tdf.Tensor(arr, track_gradient=True)\n",
    "        torch_tensor = torch.Tensor(arr)\n",
    "        torch_tensor.requires_grad = True\n",
    "        return tensor, torch_tensor\n",
    "    \n",
    "    def test_unary_operation(self, toydiff_op, torch_op, *args, **kwargs):\n",
    "        def _test(tensor, torch_t):\n",
    "            out = OperationRunner(toydiff_op, tensor).run(*args, **kwargs)\n",
    "            out_torch = getattr(torch, torch_op)(torch_t)\n",
    "\n",
    "            # call backward\n",
    "            out.backward()\n",
    "            out_torch.backward(torch.ones_like(out_torch))\n",
    "\n",
    "            # test forward pass\n",
    "            np.testing.assert_allclose(out.numpy(), out_torch.detach().numpy(), rtol=self.rtol)\n",
    "\n",
    "            # test backward pass\n",
    "            np.testing.assert_allclose(tensor.gradient.numpy(), torch_t.grad.numpy(), rtol=self.rtol)\n",
    "\n",
    "        # --------------------------------------------\n",
    "        # test 1d\n",
    "        tensor, torch_t = self._generate_input((5,))\n",
    "        _test(tensor, torch_t)\n",
    "\n",
    "        # test 2d\n",
    "        tensor, torch_t = self._generate_input((5,5))\n",
    "        _test(tensor, torch_t)\n",
    "\n",
    "\n",
    "    def test_binary_operation(op):\n",
    "        pass"
   ]
  },
  {
   "cell_type": "code",
   "execution_count": 14,
   "id": "def5038d",
   "metadata": {},
   "outputs": [],
   "source": [
    "tt = TensorTester()"
   ]
  },
  {
   "cell_type": "code",
   "execution_count": 15,
   "id": "16df6322",
   "metadata": {},
   "outputs": [],
   "source": [
    "from toydiff.core import Log"
   ]
  },
  {
   "cell_type": "code",
   "execution_count": 16,
   "id": "9d384041",
   "metadata": {},
   "outputs": [],
   "source": [
    "tt.test_unary_operation(Log, \"log\")"
   ]
  },
  {
   "cell_type": "code",
   "execution_count": null,
   "id": "0162da1b",
   "metadata": {},
   "outputs": [],
   "source": []
  },
  {
   "cell_type": "code",
   "execution_count": null,
   "id": "77156162",
   "metadata": {},
   "outputs": [],
   "source": []
  },
  {
   "cell_type": "raw",
   "id": "2bad84f4",
   "metadata": {},
   "source": [
    "----"
   ]
  }
 ],
 "metadata": {
  "kernelspec": {
   "display_name": "Python 3 (ipykernel)",
   "language": "python",
   "name": "python3"
  },
  "language_info": {
   "codemirror_mode": {
    "name": "ipython",
    "version": 3
   },
   "file_extension": ".py",
   "mimetype": "text/x-python",
   "name": "python",
   "nbconvert_exporter": "python",
   "pygments_lexer": "ipython3",
   "version": "3.10.8"
  }
 },
 "nbformat": 4,
 "nbformat_minor": 5
}
