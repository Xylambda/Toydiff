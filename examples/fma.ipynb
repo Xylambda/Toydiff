{
 "cells": [
  {
   "cell_type": "code",
   "execution_count": 1,
   "id": "c3b837b4",
   "metadata": {},
   "outputs": [],
   "source": [
    "import avagrad as ag"
   ]
  },
  {
   "cell_type": "code",
   "execution_count": 2,
   "id": "d3456753",
   "metadata": {},
   "outputs": [],
   "source": [
    "a = ag.random.rand((3,3), track_gradient=True)\n",
    "b = ag.random.rand((3,3), track_gradient=True)\n",
    "c = ag.random.rand((3,3), track_gradient=True)"
   ]
  },
  {
   "cell_type": "code",
   "execution_count": 3,
   "id": "8041ad56",
   "metadata": {},
   "outputs": [
    {
     "data": {
      "text/plain": [
       "Tensor([[1.8777063 , 0.9567863 , 1.2879769 ],\n",
       "       [0.62437826, 1.2251703 , 0.8385898 ],\n",
       "       [0.835547  , 1.1380192 , 1.1682112 ]], dtype=float32, backward_fn=<FusedMatMulAdd(TernaryOp).Backward>)"
      ]
     },
     "execution_count": 3,
     "metadata": {},
     "output_type": "execute_result"
    }
   ],
   "source": [
    "ag.fma(a, b, c)"
   ]
  },
  {
   "cell_type": "code",
   "execution_count": null,
   "id": "bf6bbf6a",
   "metadata": {},
   "outputs": [],
   "source": []
  },
  {
   "cell_type": "code",
   "execution_count": null,
   "id": "65b5a9c5",
   "metadata": {},
   "outputs": [],
   "source": []
  },
  {
   "cell_type": "code",
   "execution_count": null,
   "id": "a6f37935",
   "metadata": {},
   "outputs": [],
   "source": []
  }
 ],
 "metadata": {
  "kernelspec": {
   "display_name": "Python 3 (ipykernel)",
   "language": "python",
   "name": "python3"
  },
  "language_info": {
   "codemirror_mode": {
    "name": "ipython",
    "version": 3
   },
   "file_extension": ".py",
   "mimetype": "text/x-python",
   "name": "python",
   "nbconvert_exporter": "python",
   "pygments_lexer": "ipython3",
   "version": "3.10.8"
  }
 },
 "nbformat": 4,
 "nbformat_minor": 5
}
