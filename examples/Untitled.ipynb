{
 "cells": [
  {
   "cell_type": "code",
   "execution_count": 1,
   "id": "a119e39f",
   "metadata": {},
   "outputs": [],
   "source": [
    "import torch\n",
    "import numpy as np\n",
    "import toydiff as tdf"
   ]
  },
  {
   "cell_type": "code",
   "execution_count": null,
   "id": "c47c7332",
   "metadata": {},
   "outputs": [],
   "source": []
  },
  {
   "cell_type": "code",
   "execution_count": 2,
   "id": "21201f1c",
   "metadata": {},
   "outputs": [],
   "source": [
    "a = tdf.Tensor(np.random.rand(3,3), track_gradient=True)\n",
    "b = tdf.Tensor(np.random.rand(3,3), track_gradient=True)\n",
    "c = tdf.matmul(a, b)\n",
    "d = tdf.log(c)\n",
    "e = tdf.sum(d)\n",
    "\n",
    "t_a = torch.Tensor(a.numpy())\n",
    "t_a.requires_grad = True\n",
    "\n",
    "t_b = torch.Tensor(b.numpy())\n",
    "t_b.requires_grad = True\n",
    "\n",
    "t_c = torch.matmul(t_a, t_b)\n",
    "t_c.retain_grad()\n",
    "\n",
    "t_d = torch.log(t_c)\n",
    "t_d.retain_grad()\n",
    "\n",
    "t_e = torch.sum(t_d)\n",
    "t_e.retain_grad()\n",
    "\n",
    "#t_c.requires_grad = True"
   ]
  },
  {
   "cell_type": "code",
   "execution_count": 3,
   "id": "8c91c6ad",
   "metadata": {},
   "outputs": [],
   "source": [
    "arr = np.ones((3, 3))\n",
    "arr[0][0] = 50\n",
    "arr[1][0] = -5\n",
    "arr[1][1] = 20\n",
    "a = tdf.Tensor(arr, track_gradient=True)\n",
    "\n",
    "# ---------------------------------------\n",
    "arr2 = np.ones(3)\n",
    "arr2[0] = 20\n",
    "b = tdf.Tensor(arr2, track_gradient=True)"
   ]
  },
  {
   "cell_type": "code",
   "execution_count": 4,
   "id": "0cba2e6c",
   "metadata": {},
   "outputs": [],
   "source": [
    "c = tdf.multiply(a, b)"
   ]
  },
  {
   "cell_type": "code",
   "execution_count": 5,
   "id": "970d2007",
   "metadata": {},
   "outputs": [],
   "source": [
    "c.backward()"
   ]
  },
  {
   "cell_type": "code",
   "execution_count": 6,
   "id": "96000475",
   "metadata": {},
   "outputs": [
    {
     "data": {
      "text/plain": [
       "Tensor([[1000.,    1.,    1.],\n",
       "       [-100.,   20.,    1.],\n",
       "       [  20.,    1.,    1.]], dtype=float32, backward_fn=<Multiply.backward>)"
      ]
     },
     "execution_count": 6,
     "metadata": {},
     "output_type": "execute_result"
    }
   ],
   "source": [
    "c"
   ]
  },
  {
   "cell_type": "code",
   "execution_count": 7,
   "id": "8a79e1d1",
   "metadata": {},
   "outputs": [
    {
     "data": {
      "text/plain": [
       "Tensor([[20.,  1.,  1.],\n",
       "       [20.,  1.,  1.],\n",
       "       [20.,  1.,  1.]], dtype=float32)"
      ]
     },
     "execution_count": 7,
     "metadata": {},
     "output_type": "execute_result"
    }
   ],
   "source": [
    "a.gradient"
   ]
  },
  {
   "cell_type": "code",
   "execution_count": 8,
   "id": "37d31d6b",
   "metadata": {},
   "outputs": [
    {
     "data": {
      "text/plain": [
       "Tensor([46., 22.,  3.], dtype=float32)"
      ]
     },
     "execution_count": 8,
     "metadata": {},
     "output_type": "execute_result"
    }
   ],
   "source": [
    "b.gradient"
   ]
  },
  {
   "cell_type": "code",
   "execution_count": null,
   "id": "821c8e5c",
   "metadata": {},
   "outputs": [],
   "source": []
  },
  {
   "cell_type": "code",
   "execution_count": 9,
   "id": "24312277",
   "metadata": {},
   "outputs": [],
   "source": [
    "x1 = torch.ones(3, 3)\n",
    "x1[0][0] = 50\n",
    "x1[1][0] = -5\n",
    "x1[1][1] = 20\n",
    "x1.requires_grad = True\n",
    "\n",
    "x2 = torch.ones(3)\n",
    "x2[0] = 20\n",
    "x2.requires_grad = True\n",
    "\n",
    "#x3 = x2 + x1\n",
    "\n",
    "x3 = x1 * x2\n",
    "b_grad = torch.ones_like(x3)\n",
    "x3.backward(b_grad)"
   ]
  },
  {
   "cell_type": "code",
   "execution_count": 10,
   "id": "79b03d80",
   "metadata": {
    "scrolled": true
   },
   "outputs": [
    {
     "data": {
      "text/plain": [
       "tensor([[50.,  1.,  1.],\n",
       "        [-5., 20.,  1.],\n",
       "        [ 1.,  1.,  1.]], requires_grad=True)"
      ]
     },
     "execution_count": 10,
     "metadata": {},
     "output_type": "execute_result"
    }
   ],
   "source": [
    "x1"
   ]
  },
  {
   "cell_type": "code",
   "execution_count": 11,
   "id": "c98964c2",
   "metadata": {},
   "outputs": [
    {
     "data": {
      "text/plain": [
       "tensor([20.,  1.,  1.], requires_grad=True)"
      ]
     },
     "execution_count": 11,
     "metadata": {},
     "output_type": "execute_result"
    }
   ],
   "source": [
    "x2"
   ]
  },
  {
   "cell_type": "code",
   "execution_count": 12,
   "id": "b78550aa",
   "metadata": {},
   "outputs": [
    {
     "data": {
      "text/plain": [
       "tensor([[20.,  1.,  1.],\n",
       "        [20.,  1.,  1.],\n",
       "        [20.,  1.,  1.]])"
      ]
     },
     "execution_count": 12,
     "metadata": {},
     "output_type": "execute_result"
    }
   ],
   "source": [
    "x1.grad"
   ]
  },
  {
   "cell_type": "code",
   "execution_count": 13,
   "id": "d2e4ee7f",
   "metadata": {},
   "outputs": [
    {
     "data": {
      "text/plain": [
       "tensor([46., 22.,  3.])"
      ]
     },
     "execution_count": 13,
     "metadata": {},
     "output_type": "execute_result"
    }
   ],
   "source": [
    "x2.grad"
   ]
  },
  {
   "cell_type": "markdown",
   "id": "4b62da26",
   "metadata": {},
   "source": [
    "----"
   ]
  },
  {
   "cell_type": "code",
   "execution_count": 14,
   "id": "1c6f3a02",
   "metadata": {},
   "outputs": [
    {
     "ename": "SyntaxError",
     "evalue": "invalid syntax (2133496677.py, line 1)",
     "output_type": "error",
     "traceback": [
      "\u001b[0;36m  Cell \u001b[0;32mIn[14], line 1\u001b[0;36m\u001b[0m\n\u001b[0;31m    ----\u001b[0m\n\u001b[0m        ^\u001b[0m\n\u001b[0;31mSyntaxError\u001b[0m\u001b[0;31m:\u001b[0m invalid syntax\n"
     ]
    }
   ],
   "source": [
    "----"
   ]
  },
  {
   "cell_type": "code",
   "execution_count": null,
   "id": "5941e0fe",
   "metadata": {},
   "outputs": [],
   "source": [
    "g = torch.ones(3,3) * 5\n",
    "g.requires_grad = True"
   ]
  },
  {
   "cell_type": "code",
   "execution_count": null,
   "id": "13926a0c",
   "metadata": {},
   "outputs": [],
   "source": [
    "#g[0].backward(torch.ones(3))\n",
    "#g.grad"
   ]
  },
  {
   "cell_type": "code",
   "execution_count": null,
   "id": "88714111",
   "metadata": {},
   "outputs": [],
   "source": [
    "g[1:]"
   ]
  },
  {
   "cell_type": "code",
   "execution_count": null,
   "id": "14d1f5ae",
   "metadata": {},
   "outputs": [],
   "source": [
    "g[1:].backward(torch.ones(2,3))\n",
    "g.grad"
   ]
  },
  {
   "cell_type": "code",
   "execution_count": null,
   "id": "7fb1e40d",
   "metadata": {},
   "outputs": [],
   "source": []
  },
  {
   "cell_type": "code",
   "execution_count": null,
   "id": "52f12934",
   "metadata": {},
   "outputs": [],
   "source": [
    "t_e.backward()"
   ]
  },
  {
   "cell_type": "code",
   "execution_count": null,
   "id": "6b0e37af",
   "metadata": {},
   "outputs": [],
   "source": [
    "t_d.grad"
   ]
  },
  {
   "cell_type": "code",
   "execution_count": null,
   "id": "f97f4d16",
   "metadata": {},
   "outputs": [],
   "source": [
    "c"
   ]
  },
  {
   "cell_type": "code",
   "execution_count": null,
   "id": "0c8cac1d",
   "metadata": {},
   "outputs": [],
   "source": []
  },
  {
   "cell_type": "code",
   "execution_count": null,
   "id": "0a86e890",
   "metadata": {},
   "outputs": [],
   "source": [
    "d.gradient"
   ]
  },
  {
   "cell_type": "code",
   "execution_count": null,
   "id": "bc6ca95d",
   "metadata": {},
   "outputs": [],
   "source": [
    "z = torch.zeros(3,3)"
   ]
  },
  {
   "cell_type": "code",
   "execution_count": null,
   "id": "aaa707fb",
   "metadata": {},
   "outputs": [],
   "source": [
    "np.zeros((3,3)).astype(int)"
   ]
  },
  {
   "cell_type": "code",
   "execution_count": null,
   "id": "9807972c",
   "metadata": {},
   "outputs": [],
   "source": [
    "e.backward()"
   ]
  },
  {
   "cell_type": "code",
   "execution_count": null,
   "id": "d40e301f",
   "metadata": {},
   "outputs": [],
   "source": []
  },
  {
   "cell_type": "code",
   "execution_count": null,
   "id": "3f788f59",
   "metadata": {},
   "outputs": [],
   "source": []
  },
  {
   "cell_type": "code",
   "execution_count": null,
   "id": "a097ce49",
   "metadata": {},
   "outputs": [],
   "source": [
    "b.gradient.numpy()"
   ]
  },
  {
   "cell_type": "code",
   "execution_count": null,
   "id": "4c4dbaa2",
   "metadata": {},
   "outputs": [],
   "source": [
    "t_b.grad.numpy()"
   ]
  },
  {
   "cell_type": "code",
   "execution_count": null,
   "id": "687a3248",
   "metadata": {},
   "outputs": [],
   "source": [
    "c.gradient"
   ]
  },
  {
   "cell_type": "code",
   "execution_count": null,
   "id": "f0b62a9d",
   "metadata": {},
   "outputs": [],
   "source": [
    "t_c.grad"
   ]
  },
  {
   "cell_type": "code",
   "execution_count": null,
   "id": "b5d3ce0a",
   "metadata": {},
   "outputs": [],
   "source": []
  },
  {
   "cell_type": "code",
   "execution_count": null,
   "id": "112bdbff",
   "metadata": {},
   "outputs": [],
   "source": []
  },
  {
   "cell_type": "raw",
   "id": "2e636600",
   "metadata": {},
   "source": [
    "----"
   ]
  }
 ],
 "metadata": {
  "kernelspec": {
   "display_name": "Python 3 (ipykernel)",
   "language": "python",
   "name": "python3"
  },
  "language_info": {
   "codemirror_mode": {
    "name": "ipython",
    "version": 3
   },
   "file_extension": ".py",
   "mimetype": "text/x-python",
   "name": "python",
   "nbconvert_exporter": "python",
   "pygments_lexer": "ipython3",
   "version": "3.10.8"
  }
 },
 "nbformat": 4,
 "nbformat_minor": 5
}
