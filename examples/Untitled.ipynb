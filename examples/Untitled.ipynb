{
 "cells": [
  {
   "cell_type": "code",
   "execution_count": 1,
   "id": "a119e39f",
   "metadata": {},
   "outputs": [],
   "source": [
    "import torch\n",
    "import numpy as np\n",
    "import toydiff as tdf"
   ]
  },
  {
   "cell_type": "code",
   "execution_count": 2,
   "id": "c7703235",
   "metadata": {},
   "outputs": [],
   "source": [
    "a = tdf.rand((3,3), track_gradient=True)"
   ]
  },
  {
   "cell_type": "code",
   "execution_count": 3,
   "id": "76b21c06",
   "metadata": {},
   "outputs": [],
   "source": [
    "_a = np.ones((3,3)) * 2\n",
    "_a[0, 2] = 23\n",
    "_a[2, 2] = 9\n",
    "\n",
    "_b = np.ones(3) * 6\n",
    "\n",
    "\n",
    "ta = torch.Tensor(_a)\n",
    "ta.requires_grad = True\n",
    "\n",
    "tb = torch.Tensor(_b)\n",
    "tb.requires_grad = True\n",
    "\n",
    "tc = torch.divide(ta, tb)\n",
    "tc.backward(torch.ones_like(tc))\n",
    "\n",
    "# --------------------------------\n",
    "a = tdf.Tensor(_a, track_gradient=True)\n",
    "b = tdf.Tensor(_b, track_gradient=True)\n",
    "\n",
    "c = a / b\n",
    "c.backward()"
   ]
  },
  {
   "cell_type": "code",
   "execution_count": 4,
   "id": "7ea5091b",
   "metadata": {},
   "outputs": [
    {
     "data": {
      "text/plain": [
       "Tensor([[0.16666667, 0.16666667, 0.16666667],\n",
       "       [0.16666667, 0.16666667, 0.16666667],\n",
       "       [0.16666667, 0.16666667, 0.16666667]], dtype=float32, track_gradient=False)"
      ]
     },
     "execution_count": 4,
     "metadata": {},
     "output_type": "execute_result"
    }
   ],
   "source": [
    "a.gradient"
   ]
  },
  {
   "cell_type": "code",
   "execution_count": 5,
   "id": "d57e65ce",
   "metadata": {},
   "outputs": [
    {
     "data": {
      "text/plain": [
       "array([[0.16666667, 0.16666667, 0.16666667],\n",
       "       [0.16666667, 0.16666667, 0.16666667],\n",
       "       [0.16666667, 0.16666667, 0.16666667]], dtype=float32)"
      ]
     },
     "execution_count": 5,
     "metadata": {},
     "output_type": "execute_result"
    }
   ],
   "source": [
    "ta.grad.numpy()"
   ]
  },
  {
   "cell_type": "code",
   "execution_count": 6,
   "id": "523e4fd1",
   "metadata": {},
   "outputs": [
    {
     "data": {
      "text/plain": [
       "Tensor([-0.16666667, -0.16666667, -0.9444445 ], dtype=float32, track_gradient=False)"
      ]
     },
     "execution_count": 6,
     "metadata": {},
     "output_type": "execute_result"
    }
   ],
   "source": [
    "b.gradient"
   ]
  },
  {
   "cell_type": "code",
   "execution_count": 7,
   "id": "f16d210e",
   "metadata": {},
   "outputs": [
    {
     "data": {
      "text/plain": [
       "array([-0.16666667, -0.16666667, -0.9444445 ], dtype=float32)"
      ]
     },
     "execution_count": 7,
     "metadata": {},
     "output_type": "execute_result"
    }
   ],
   "source": [
    "tb.grad.numpy()"
   ]
  },
  {
   "cell_type": "code",
   "execution_count": 8,
   "id": "30717a83",
   "metadata": {},
   "outputs": [],
   "source": [
    "from toydiff.core import OperationRunner"
   ]
  },
  {
   "cell_type": "code",
   "execution_count": 9,
   "id": "1eff692b",
   "metadata": {},
   "outputs": [
    {
     "data": {
      "text/plain": [
       "array([[ 2.,  2., 23.],\n",
       "       [ 2.,  2.,  2.],\n",
       "       [ 2.,  2.,  9.]], dtype=float32)"
      ]
     },
     "execution_count": 9,
     "metadata": {},
     "output_type": "execute_result"
    }
   ],
   "source": [
    "ta.detach().numpy()"
   ]
  },
  {
   "cell_type": "code",
   "execution_count": 26,
   "id": "101b71bd",
   "metadata": {},
   "outputs": [],
   "source": [
    "def generate_input(shape, n_tensors=1):\n",
    "    def create(shape):\n",
    "        arr = np.random.rand(*shape)\n",
    "        tensor = tdf.Tensor(arr, track_gradient=True)\n",
    "        torch_tensor = torch.Tensor(arr)\n",
    "        torch_tensor.requires_grad = True\n",
    "        return tensor, torch_tensor\n",
    "\n",
    "    tensors = []\n",
    "    for _ in (0, n_tensors):\n",
    "        tensors.append(create(shape))\n",
    "    return tensors"
   ]
  },
  {
   "cell_type": "code",
   "execution_count": 32,
   "id": "7b5540fd",
   "metadata": {},
   "outputs": [],
   "source": [
    "(a, b), (c, d) = generate_input((2,2), 2)"
   ]
  },
  {
   "cell_type": "code",
   "execution_count": 33,
   "id": "4857d34a",
   "metadata": {},
   "outputs": [
    {
     "data": {
      "text/plain": [
       "Tensor([[0.37627852, 0.7490264 ],\n",
       "       [0.03910809, 0.34865263]], dtype=float32, track_gradient=True)"
      ]
     },
     "execution_count": 33,
     "metadata": {},
     "output_type": "execute_result"
    }
   ],
   "source": [
    "a"
   ]
  },
  {
   "cell_type": "code",
   "execution_count": 46,
   "id": "bb266267",
   "metadata": {},
   "outputs": [
    {
     "data": {
      "text/plain": [
       "array([[[0.39478895, 1.15658499, 0.82277207],\n",
       "        [0.63980949, 1.76936085, 1.13080599]],\n",
       "\n",
       "       [[0.64147438, 0.65505143, 0.78471273],\n",
       "        [0.74230255, 0.70379491, 0.54446901]],\n",
       "\n",
       "       [[0.08331157, 0.90414339, 0.86060323],\n",
       "        [0.10623665, 0.94678403, 0.94784125]]])"
      ]
     },
     "execution_count": 46,
     "metadata": {},
     "output_type": "execute_result"
    }
   ],
   "source": [
    "np.matmul(np.random.rand(3,2,3), np.random.rand(3,3,3))"
   ]
  },
  {
   "cell_type": "code",
   "execution_count": 47,
   "id": "3980ec07",
   "metadata": {},
   "outputs": [],
   "source": [
    "(t1, t1_torch), (t2, t2_torch) = generate_input((3,))\n",
    "out = tdf.minimum(t1, t2)\n",
    "out_torch = torch.minimum(t1_torch, t2_torch)"
   ]
  },
  {
   "cell_type": "code",
   "execution_count": 52,
   "id": "e699d817",
   "metadata": {},
   "outputs": [
    {
     "data": {
      "text/plain": [
       "array([0.13808706, 0.33257085, 0.41192052], dtype=float32)"
      ]
     },
     "execution_count": 52,
     "metadata": {},
     "output_type": "execute_result"
    }
   ],
   "source": [
    "np.minimum(t1.numpy(), t2.numpy())"
   ]
  },
  {
   "cell_type": "code",
   "execution_count": 50,
   "id": "ac22f500",
   "metadata": {},
   "outputs": [
    {
     "data": {
      "text/plain": [
       "Tensor([0.8621172 , 0.77184314, 0.41192052], dtype=float32, track_gradient=True)"
      ]
     },
     "execution_count": 50,
     "metadata": {},
     "output_type": "execute_result"
    }
   ],
   "source": [
    "t1"
   ]
  },
  {
   "cell_type": "code",
   "execution_count": 51,
   "id": "c52d84f2",
   "metadata": {},
   "outputs": [
    {
     "data": {
      "text/plain": [
       "Tensor([0.13808706, 0.33257085, 0.708585  ], dtype=float32, track_gradient=True)"
      ]
     },
     "execution_count": 51,
     "metadata": {},
     "output_type": "execute_result"
    }
   ],
   "source": [
    "t2"
   ]
  },
  {
   "cell_type": "code",
   "execution_count": null,
   "id": "67d7c102",
   "metadata": {},
   "outputs": [],
   "source": []
  },
  {
   "cell_type": "code",
   "execution_count": 48,
   "id": "342bfcdb",
   "metadata": {},
   "outputs": [
    {
     "data": {
      "text/plain": [
       "Tensor([0.8621172 , 0.77184314, 0.708585  ], dtype=float32, backward_fn=<Minimum(BinaryOp).Backward>)"
      ]
     },
     "execution_count": 48,
     "metadata": {},
     "output_type": "execute_result"
    }
   ],
   "source": [
    "out"
   ]
  },
  {
   "cell_type": "code",
   "execution_count": 49,
   "id": "6510f22a",
   "metadata": {},
   "outputs": [
    {
     "data": {
      "text/plain": [
       "tensor([0.1381, 0.3326, 0.4119], grad_fn=<MinimumBackward0>)"
      ]
     },
     "execution_count": 49,
     "metadata": {},
     "output_type": "execute_result"
    }
   ],
   "source": [
    "out_torch"
   ]
  },
  {
   "cell_type": "code",
   "execution_count": null,
   "id": "682ed5ad",
   "metadata": {},
   "outputs": [],
   "source": []
  },
  {
   "cell_type": "code",
   "execution_count": null,
   "id": "7141efb5",
   "metadata": {},
   "outputs": [],
   "source": []
  },
  {
   "cell_type": "code",
   "execution_count": null,
   "id": "f27db882",
   "metadata": {},
   "outputs": [],
   "source": []
  },
  {
   "cell_type": "code",
   "execution_count": null,
   "id": "64b20294",
   "metadata": {},
   "outputs": [],
   "source": []
  },
  {
   "cell_type": "code",
   "execution_count": null,
   "id": "8c68a06c",
   "metadata": {},
   "outputs": [],
   "source": []
  },
  {
   "cell_type": "code",
   "execution_count": null,
   "id": "56a7e7c7",
   "metadata": {},
   "outputs": [],
   "source": []
  },
  {
   "cell_type": "raw",
   "id": "2bad84f4",
   "metadata": {},
   "source": [
    "-------"
   ]
  }
 ],
 "metadata": {
  "kernelspec": {
   "display_name": "Python 3 (ipykernel)",
   "language": "python",
   "name": "python3"
  },
  "language_info": {
   "codemirror_mode": {
    "name": "ipython",
    "version": 3
   },
   "file_extension": ".py",
   "mimetype": "text/x-python",
   "name": "python",
   "nbconvert_exporter": "python",
   "pygments_lexer": "ipython3",
   "version": "3.10.8"
  }
 },
 "nbformat": 4,
 "nbformat_minor": 5
}
