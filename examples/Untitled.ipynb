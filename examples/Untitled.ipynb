{
 "cells": [
  {
   "cell_type": "code",
   "execution_count": 1,
   "id": "a119e39f",
   "metadata": {},
   "outputs": [],
   "source": [
    "import torch\n",
    "import numpy as np\n",
    "import toydiff as tdf"
   ]
  },
  {
   "cell_type": "code",
   "execution_count": 2,
   "id": "4017278f",
   "metadata": {},
   "outputs": [],
   "source": [
    "a = tdf.rand((3,3), track_gradient=True)"
   ]
  },
  {
   "cell_type": "code",
   "execution_count": 3,
   "id": "0d7e3b92",
   "metadata": {},
   "outputs": [],
   "source": [
    "_a = np.ones((3,3)) * 2\n",
    "_a[0, 2] = 23\n",
    "_a[2, 2] = 9\n",
    "\n",
    "_b = np.ones(3) * 6\n",
    "\n",
    "\n",
    "ta = torch.Tensor(_a)\n",
    "ta.requires_grad = True\n",
    "\n",
    "tb = torch.Tensor(_b)\n",
    "tb.requires_grad = True\n",
    "\n",
    "tc = torch.divide(ta, tb)\n",
    "tc.backward(torch.ones_like(tc))\n",
    "\n",
    "# --------------------------------\n",
    "a = tdf.Tensor(_a, track_gradient=True)\n",
    "b = tdf.Tensor(_b, track_gradient=True)\n",
    "\n",
    "c = a / b\n",
    "c.backward()"
   ]
  },
  {
   "cell_type": "code",
   "execution_count": 4,
   "id": "a4d8e52f",
   "metadata": {},
   "outputs": [
    {
     "data": {
      "text/plain": [
       "Tensor([[0.16666667, 0.16666667, 0.16666667],\n",
       "       [0.16666667, 0.16666667, 0.16666667],\n",
       "       [0.16666667, 0.16666667, 0.16666667]], dtype=float32, track_gradient=False)"
      ]
     },
     "execution_count": 4,
     "metadata": {},
     "output_type": "execute_result"
    }
   ],
   "source": [
    "a.gradient"
   ]
  },
  {
   "cell_type": "code",
   "execution_count": 5,
   "id": "bfc3d0a3",
   "metadata": {},
   "outputs": [
    {
     "data": {
      "text/plain": [
       "array([[0.16666667, 0.16666667, 0.16666667],\n",
       "       [0.16666667, 0.16666667, 0.16666667],\n",
       "       [0.16666667, 0.16666667, 0.16666667]], dtype=float32)"
      ]
     },
     "execution_count": 5,
     "metadata": {},
     "output_type": "execute_result"
    }
   ],
   "source": [
    "ta.grad.numpy()"
   ]
  },
  {
   "cell_type": "code",
   "execution_count": 6,
   "id": "fd4528f1",
   "metadata": {},
   "outputs": [
    {
     "data": {
      "text/plain": [
       "Tensor([-0.16666667, -0.16666667, -0.9444445 ], dtype=float32, track_gradient=False)"
      ]
     },
     "execution_count": 6,
     "metadata": {},
     "output_type": "execute_result"
    }
   ],
   "source": [
    "b.gradient"
   ]
  },
  {
   "cell_type": "code",
   "execution_count": 7,
   "id": "c97695d6",
   "metadata": {},
   "outputs": [
    {
     "data": {
      "text/plain": [
       "array([-0.16666667, -0.16666667, -0.9444445 ], dtype=float32)"
      ]
     },
     "execution_count": 7,
     "metadata": {},
     "output_type": "execute_result"
    }
   ],
   "source": [
    "tb.grad.numpy()"
   ]
  },
  {
   "cell_type": "code",
   "execution_count": 8,
   "id": "06d3aa1d",
   "metadata": {},
   "outputs": [],
   "source": [
    "from toydiff.core import OperationRunner"
   ]
  },
  {
   "cell_type": "code",
   "execution_count": 9,
   "id": "f0c73387",
   "metadata": {},
   "outputs": [
    {
     "data": {
      "text/plain": [
       "array([[ 2.,  2., 23.],\n",
       "       [ 2.,  2.,  2.],\n",
       "       [ 2.,  2.,  9.]], dtype=float32)"
      ]
     },
     "execution_count": 9,
     "metadata": {},
     "output_type": "execute_result"
    }
   ],
   "source": [
    "ta.detach().numpy()"
   ]
  },
  {
   "cell_type": "code",
   "execution_count": 10,
   "id": "2d6f41bb",
   "metadata": {},
   "outputs": [],
   "source": [
    "def generate_input(shape, n_tensors=1):\n",
    "    def create(shape):\n",
    "        arr = np.random.rand(*shape)\n",
    "        tensor = tdf.Tensor(arr, track_gradient=True)\n",
    "        torch_tensor = torch.Tensor(arr)\n",
    "        torch_tensor.requires_grad = True\n",
    "        return tensor, torch_tensor\n",
    "\n",
    "    tensors = []\n",
    "    for _ in (0, n_tensors):\n",
    "        tensors.append(create(shape))\n",
    "    return tensors"
   ]
  },
  {
   "cell_type": "code",
   "execution_count": 11,
   "id": "0d49b4dc",
   "metadata": {},
   "outputs": [],
   "source": [
    "(a, b), (c, d) = generate_input((2,2), 2)"
   ]
  },
  {
   "cell_type": "code",
   "execution_count": 12,
   "id": "376f7998",
   "metadata": {},
   "outputs": [
    {
     "data": {
      "text/plain": [
       "Tensor([[0.6424953 , 0.15125677],\n",
       "       [0.7314589 , 0.31227654]], dtype=float32, track_gradient=True)"
      ]
     },
     "execution_count": 12,
     "metadata": {},
     "output_type": "execute_result"
    }
   ],
   "source": [
    "a"
   ]
  },
  {
   "cell_type": "code",
   "execution_count": 13,
   "id": "beaf850a",
   "metadata": {},
   "outputs": [
    {
     "data": {
      "text/plain": [
       "array([[[0.52504834, 0.55506119, 1.37928131],\n",
       "        [0.83672258, 0.64440953, 1.11262993]],\n",
       "\n",
       "       [[0.31301746, 0.07202308, 0.33111088],\n",
       "        [0.73947474, 0.11406377, 0.91684541]],\n",
       "\n",
       "       [[1.36279364, 1.39677136, 1.08815047],\n",
       "        [0.64468434, 0.65656037, 0.56796719]]])"
      ]
     },
     "execution_count": 13,
     "metadata": {},
     "output_type": "execute_result"
    }
   ],
   "source": [
    "np.matmul(np.random.rand(3,2,3), np.random.rand(3,3,3))"
   ]
  },
  {
   "cell_type": "code",
   "execution_count": 14,
   "id": "cb8a5e9f",
   "metadata": {},
   "outputs": [],
   "source": [
    "(t1, t1_torch), (t2, t2_torch) = generate_input((3,))\n",
    "out = tdf.minimum(t1, t2)\n",
    "out_torch = torch.minimum(t1_torch, t2_torch)"
   ]
  },
  {
   "cell_type": "code",
   "execution_count": 15,
   "id": "84ccf9ed",
   "metadata": {},
   "outputs": [
    {
     "data": {
      "text/plain": [
       "array([0.3226355 , 0.13078634, 0.67200273], dtype=float32)"
      ]
     },
     "execution_count": 15,
     "metadata": {},
     "output_type": "execute_result"
    }
   ],
   "source": [
    "np.minimum(t1.numpy(), t2.numpy())"
   ]
  },
  {
   "cell_type": "code",
   "execution_count": 16,
   "id": "35a21f65",
   "metadata": {},
   "outputs": [
    {
     "data": {
      "text/plain": [
       "Tensor([0.3226355 , 0.13078634, 0.89679205], dtype=float32, track_gradient=True)"
      ]
     },
     "execution_count": 16,
     "metadata": {},
     "output_type": "execute_result"
    }
   ],
   "source": [
    "t1"
   ]
  },
  {
   "cell_type": "code",
   "execution_count": 17,
   "id": "fcbbb789",
   "metadata": {},
   "outputs": [
    {
     "data": {
      "text/plain": [
       "Tensor([0.3644439 , 0.31067124, 0.67200273], dtype=float32, track_gradient=True)"
      ]
     },
     "execution_count": 17,
     "metadata": {},
     "output_type": "execute_result"
    }
   ],
   "source": [
    "t2"
   ]
  },
  {
   "cell_type": "code",
   "execution_count": null,
   "id": "3b3a7526",
   "metadata": {},
   "outputs": [],
   "source": []
  },
  {
   "cell_type": "code",
   "execution_count": 18,
   "id": "d32f1596",
   "metadata": {},
   "outputs": [
    {
     "data": {
      "text/plain": [
       "Tensor([0.3226355 , 0.13078634, 0.67200273], dtype=float32, backward_fn=<Minimum(BinaryOp).Backward>)"
      ]
     },
     "execution_count": 18,
     "metadata": {},
     "output_type": "execute_result"
    }
   ],
   "source": [
    "out"
   ]
  },
  {
   "cell_type": "code",
   "execution_count": 19,
   "id": "955333a7",
   "metadata": {},
   "outputs": [
    {
     "data": {
      "text/plain": [
       "tensor([0.3226, 0.1308, 0.6720], grad_fn=<MinimumBackward0>)"
      ]
     },
     "execution_count": 19,
     "metadata": {},
     "output_type": "execute_result"
    }
   ],
   "source": [
    "out_torch"
   ]
  },
  {
   "cell_type": "code",
   "execution_count": 20,
   "id": "be98dca9",
   "metadata": {},
   "outputs": [],
   "source": [
    "a = tdf.rand((3,3), track_gradient=True)\n",
    "b = tdf.rand((3,3), track_gradient=True)"
   ]
  },
  {
   "cell_type": "code",
   "execution_count": 28,
   "id": "c9cf2275",
   "metadata": {},
   "outputs": [],
   "source": [
    "b = a + 2"
   ]
  },
  {
   "cell_type": "code",
   "execution_count": 29,
   "id": "7ad7544a",
   "metadata": {},
   "outputs": [],
   "source": [
    "b.backward()"
   ]
  },
  {
   "cell_type": "code",
   "execution_count": 31,
   "id": "8d2bd336",
   "metadata": {},
   "outputs": [
    {
     "data": {
      "text/plain": [
       "Tensor([[1., 1., 1.],\n",
       "       [1., 1., 1.],\n",
       "       [1., 1., 1.]], dtype=float32, track_gradient=False)"
      ]
     },
     "execution_count": 31,
     "metadata": {},
     "output_type": "execute_result"
    }
   ],
   "source": [
    "b.gradient"
   ]
  },
  {
   "cell_type": "code",
   "execution_count": 32,
   "id": "4e803541",
   "metadata": {},
   "outputs": [],
   "source": [
    "_a = torch.rand(3,3)\n",
    "_a.requires_grad = True"
   ]
  },
  {
   "cell_type": "code",
   "execution_count": 33,
   "id": "bf5d5b53",
   "metadata": {},
   "outputs": [],
   "source": [
    "_b = _a + 2"
   ]
  },
  {
   "cell_type": "code",
   "execution_count": 34,
   "id": "ce069484",
   "metadata": {},
   "outputs": [],
   "source": [
    "_b.backward(torch.ones_like(_b))"
   ]
  },
  {
   "cell_type": "code",
   "execution_count": 35,
   "id": "25819ffb",
   "metadata": {},
   "outputs": [
    {
     "data": {
      "text/plain": [
       "tensor([[1., 1., 1.],\n",
       "        [1., 1., 1.],\n",
       "        [1., 1., 1.]])"
      ]
     },
     "execution_count": 35,
     "metadata": {},
     "output_type": "execute_result"
    }
   ],
   "source": [
    "_a.grad"
   ]
  },
  {
   "cell_type": "code",
   "execution_count": null,
   "id": "089cb96c",
   "metadata": {},
   "outputs": [],
   "source": []
  },
  {
   "cell_type": "code",
   "execution_count": 26,
   "id": "060a56b5",
   "metadata": {},
   "outputs": [
    {
     "ename": "NameError",
     "evalue": "name 'e' is not defined",
     "output_type": "error",
     "traceback": [
      "\u001b[0;31m---------------------------------------------------------------------------\u001b[0m",
      "\u001b[0;31mNameError\u001b[0m                                 Traceback (most recent call last)",
      "Cell \u001b[0;32mIn[26], line 1\u001b[0m\n\u001b[0;32m----> 1\u001b[0m \u001b[43me\u001b[49m\n",
      "\u001b[0;31mNameError\u001b[0m: name 'e' is not defined"
     ]
    }
   ],
   "source": [
    "e"
   ]
  },
  {
   "cell_type": "code",
   "execution_count": null,
   "id": "82555ad8",
   "metadata": {},
   "outputs": [],
   "source": [
    "e.backward()"
   ]
  },
  {
   "cell_type": "code",
   "execution_count": null,
   "id": "059d7e24",
   "metadata": {},
   "outputs": [],
   "source": [
    "a.gradient"
   ]
  },
  {
   "cell_type": "code",
   "execution_count": null,
   "id": "5f983345",
   "metadata": {},
   "outputs": [],
   "source": []
  },
  {
   "cell_type": "code",
   "execution_count": null,
   "id": "72c9007e",
   "metadata": {},
   "outputs": [],
   "source": []
  },
  {
   "cell_type": "code",
   "execution_count": null,
   "id": "b61ccce8",
   "metadata": {},
   "outputs": [],
   "source": []
  },
  {
   "cell_type": "raw",
   "id": "2bad84f4",
   "metadata": {},
   "source": [
    "-------"
   ]
  }
 ],
 "metadata": {
  "kernelspec": {
   "display_name": "Python 3 (ipykernel)",
   "language": "python",
   "name": "python3"
  },
  "language_info": {
   "codemirror_mode": {
    "name": "ipython",
    "version": 3
   },
   "file_extension": ".py",
   "mimetype": "text/x-python",
   "name": "python",
   "nbconvert_exporter": "python",
   "pygments_lexer": "ipython3",
   "version": "3.10.8"
  }
 },
 "nbformat": 4,
 "nbformat_minor": 5
}
