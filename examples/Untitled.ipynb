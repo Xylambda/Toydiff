{
 "cells": [
  {
   "cell_type": "code",
   "execution_count": 1,
   "id": "a119e39f",
   "metadata": {},
   "outputs": [],
   "source": [
    "import torch\n",
    "import numpy as np\n",
    "import toydiff as tdf"
   ]
  },
  {
   "cell_type": "code",
   "execution_count": 2,
   "id": "8f2f2697",
   "metadata": {},
   "outputs": [],
   "source": [
    "_a = np.ones((3,3)) * 2\n",
    "_a[0, 2] = 23\n",
    "_a[2, 2] = 9\n",
    "\n",
    "_b = np.ones(3) * 6\n",
    "\n",
    "\n",
    "ta = torch.Tensor(_a)\n",
    "ta.requires_grad = True\n",
    "\n",
    "tb = torch.Tensor(_b)\n",
    "tb.requires_grad = True\n",
    "\n",
    "tc = torch.divide(ta, tb)\n",
    "tc.backward(torch.ones_like(tc))\n",
    "\n",
    "# --------------------------------\n",
    "a = tdf.Tensor(_a, track_gradient=True)\n",
    "b = tdf.Tensor(_b, track_gradient=True)\n",
    "\n",
    "c = a / b\n",
    "c.backward()"
   ]
  },
  {
   "cell_type": "code",
   "execution_count": 3,
   "id": "d7220b4b",
   "metadata": {},
   "outputs": [
    {
     "data": {
      "text/plain": [
       "Tensor([[0.16666667, 0.16666667, 0.16666667],\n",
       "       [0.16666667, 0.16666667, 0.16666667],\n",
       "       [0.16666667, 0.16666667, 0.16666667]], dtype=float32, track_gradient=False)"
      ]
     },
     "execution_count": 3,
     "metadata": {},
     "output_type": "execute_result"
    }
   ],
   "source": [
    "a.gradient"
   ]
  },
  {
   "cell_type": "code",
   "execution_count": 4,
   "id": "9fb1987f",
   "metadata": {},
   "outputs": [
    {
     "data": {
      "text/plain": [
       "array([[0.16666667, 0.16666667, 0.16666667],\n",
       "       [0.16666667, 0.16666667, 0.16666667],\n",
       "       [0.16666667, 0.16666667, 0.16666667]], dtype=float32)"
      ]
     },
     "execution_count": 4,
     "metadata": {},
     "output_type": "execute_result"
    }
   ],
   "source": [
    "ta.grad.numpy()"
   ]
  },
  {
   "cell_type": "code",
   "execution_count": 5,
   "id": "024a0abd",
   "metadata": {},
   "outputs": [
    {
     "data": {
      "text/plain": [
       "Tensor([-0.16666667, -0.16666667, -0.9444445 ], dtype=float32, track_gradient=False)"
      ]
     },
     "execution_count": 5,
     "metadata": {},
     "output_type": "execute_result"
    }
   ],
   "source": [
    "b.gradient"
   ]
  },
  {
   "cell_type": "code",
   "execution_count": 6,
   "id": "24d4562f",
   "metadata": {},
   "outputs": [
    {
     "data": {
      "text/plain": [
       "array([-0.16666667, -0.16666667, -0.9444445 ], dtype=float32)"
      ]
     },
     "execution_count": 6,
     "metadata": {},
     "output_type": "execute_result"
    }
   ],
   "source": [
    "tb.grad.numpy()"
   ]
  },
  {
   "cell_type": "code",
   "execution_count": null,
   "id": "3d4515c3",
   "metadata": {},
   "outputs": [],
   "source": []
  },
  {
   "cell_type": "code",
   "execution_count": null,
   "id": "8d96b14a",
   "metadata": {},
   "outputs": [],
   "source": []
  },
  {
   "cell_type": "code",
   "execution_count": null,
   "id": "4a9d008d",
   "metadata": {},
   "outputs": [],
   "source": []
  },
  {
   "cell_type": "code",
   "execution_count": null,
   "id": "77156162",
   "metadata": {},
   "outputs": [],
   "source": []
  },
  {
   "cell_type": "raw",
   "id": "2bad84f4",
   "metadata": {},
   "source": [
    "----"
   ]
  }
 ],
 "metadata": {
  "kernelspec": {
   "display_name": "Python 3 (ipykernel)",
   "language": "python",
   "name": "python3"
  },
  "language_info": {
   "codemirror_mode": {
    "name": "ipython",
    "version": 3
   },
   "file_extension": ".py",
   "mimetype": "text/x-python",
   "name": "python",
   "nbconvert_exporter": "python",
   "pygments_lexer": "ipython3",
   "version": "3.10.8"
  }
 },
 "nbformat": 4,
 "nbformat_minor": 5
}
