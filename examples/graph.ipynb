{
 "cells": [
  {
   "cell_type": "markdown",
   "metadata": {},
   "source": [
    "### References\n",
    "* [Stanford - Backpropagation](http://cs231n.stanford.edu/slides/2017/cs231n_2017_lecture4.pdf)\n",
    "* [Micrograd](https://github.com/karpathy/micrograd)"
   ]
  },
  {
   "cell_type": "code",
   "execution_count": 1,
   "metadata": {},
   "outputs": [],
   "source": [
    "import numpy as np"
   ]
  },
  {
   "cell_type": "code",
   "execution_count": 2,
   "metadata": {},
   "outputs": [],
   "source": [
    "from matplotlib import pyplot as plt\n",
    "from toydiff.ops import Add, Multiply, Sin, Tan"
   ]
  },
  {
   "cell_type": "markdown",
   "metadata": {},
   "source": [
    "We will implement this function:\n",
    "$$\n",
    "f(x,y,z,w) = x \\cdot z + sin(w) \\cdot tan(y) \n",
    "$$\n",
    "\n",
    "with this intermediate variables to improve code readability:\n",
    "$$\n",
    "q(x,z) = x \\cdot z; \\quad t(w,y) = sin(w) \\cdot tan(y); \\quad r(q,t) = q + t\n",
    "$$"
   ]
  },
  {
   "cell_type": "code",
   "execution_count": 3,
   "metadata": {},
   "outputs": [],
   "source": [
    "x = 5\n",
    "y = 7\n",
    "z = -3\n",
    "w = 2"
   ]
  },
  {
   "cell_type": "code",
   "execution_count": 4,
   "metadata": {},
   "outputs": [],
   "source": [
    "add = Add()\n",
    "sin = Sin()\n",
    "tan = Tan()\n",
    "mul1 = Multiply()\n",
    "mul2 = Multiply()"
   ]
  },
  {
   "cell_type": "code",
   "execution_count": 5,
   "metadata": {},
   "outputs": [
    {
     "name": "stdout",
     "output_type": "stream",
     "text": [
      "1 ; 1\n",
      "-3 ; 5\n",
      "-3 ; 5\n",
      "1.2484405096414273 ; 5\n"
     ]
    }
   ],
   "source": [
    "# --- Forward pass ---\n",
    "q = mul1.forward(x, z)\n",
    "t = mul2.forward(sin.forward(w), tan.forward(y))\n",
    "r = add.forward(q, t)\n",
    "\n",
    "# --- Backward pass ---\n",
    "dr_dq, dr_dt = add.backward(incoming_grad=1) # df/df = 1\n",
    "print(dr_dq, \";\", dr_dt)\n",
    "\n",
    "dq_dx, dq_dz = mul1.backward(incoming_grad=dr_dq)\n",
    "print(dq_dx, \";\", dq_dz)\n",
    "dt_sin, dt_tan = mul1.backward(incoming_grad=dr_dt)\n",
    "print(dt_sin, \";\", dt_tan)\n",
    "\n",
    "dsin_dw = sin.backward(incoming_grad=dt_sin)\n",
    "dtan_dy = tan.backward(incoming_grad=dt_tan)\n",
    "print(dsin_dw, \";\", dt_tan)"
   ]
  },
  {
   "cell_type": "code",
   "execution_count": 6,
   "metadata": {},
   "outputs": [
    {
     "name": "stdout",
     "output_type": "stream",
     "text": [
      "-14.207594591696346 ; -14.207594591696346\n"
     ]
    }
   ],
   "source": [
    "print(x*z + np.sin(w)*np.tan(y),\";\", r)"
   ]
  }
 ],
 "metadata": {
  "kernelspec": {
   "display_name": "Python 3",
   "language": "python",
   "name": "python3"
  },
  "language_info": {
   "codemirror_mode": {
    "name": "ipython",
    "version": 3
   },
   "file_extension": ".py",
   "mimetype": "text/x-python",
   "name": "python",
   "nbconvert_exporter": "python",
   "pygments_lexer": "ipython3",
   "version": "3.7.3"
  }
 },
 "nbformat": 4,
 "nbformat_minor": 2
}
